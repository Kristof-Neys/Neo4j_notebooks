{
 "cells": [
  {
   "source": [
    "*prep*\n",
    "```cypher\n",
    "// Create monopartite graph\n",
    "MATCH (c:Client)-[:PERFORMED]->(t:Transaction)-[:TO]->(oc:Client)\n",
    "with c, oc, sum(t.amount) AS weight\n",
    "CREATE (c)-[:PAYS{amount: weight}]->(oc);\n",
    "```"
   ],
   "cell_type": "markdown",
   "metadata": {}
  },
  {
   "cell_type": "code",
   "execution_count": 1,
   "metadata": {},
   "outputs": [],
   "source": [
    "from neo4j import GraphDatabase"
   ]
  },
  {
   "source": [
    "driver = GraphDatabase.driver(\"bolt://localhost:7687\", auth=(\"neo4j\", \"test1234\"), encrypted=False)"
   ],
   "cell_type": "code",
   "metadata": {},
   "execution_count": 2,
   "outputs": []
  },
  {
   "cell_type": "code",
   "execution_count": 3,
   "metadata": {},
   "outputs": [],
   "source": [
    "def createGraphProjection(tx):\n",
    "    return tx.run(\n",
    "        \"\"\"CALL gds.graph.create(\n",
    "            'payment', \n",
    "            'Client', \n",
    "            { PAYS: { type: 'PAYS', orientation:'UNDIRECTED'}}, \n",
    "            {\n",
    "                nodeProperties: { },\n",
    "                relationshipProperties: {amount: { property: 'amount', aggregation: 'NONE', defaultValue: 0.0 }}\n",
    "            }\n",
    "        )\"\"\"\n",
    "    ).consume()"
   ]
  },
  {
   "cell_type": "code",
   "execution_count": 4,
   "metadata": {},
   "outputs": [],
   "source": [
    "def runFastRP(tx): \n",
    "    return tx.run(\n",
    "        \"\"\"CALL gds.fastRP.mutate(\n",
    "            'payment', \n",
    "            {\n",
    "                embeddingDimension: 8,\n",
    "                iterationWeights: [0.0, 0.20, 0.40, 0.60, 0.80, 1.00, 1.20, 1.40, 1.60, 1.80, 2.00],\n",
    "                relationshipWeightProperty: 'amount',\n",
    "                mutateProperty:'fastRP'\n",
    "            }\n",
    "            )\"\"\"\n",
    "    ).consume()    "
   ]
  },
  {
   "cell_type": "code",
   "execution_count": 5,
   "metadata": {},
   "outputs": [],
   "source": [
    "def writeEmbedding(tx):\n",
    "    return tx.run(\n",
    "        \"\"\"\n",
    "        CALL gds.graph.writeNodeProperties('payment', ['fastRP'])\n",
    "        \"\"\"\n",
    "    ).consume()"
   ]
  },
  {
   "cell_type": "code",
   "execution_count": 6,
   "metadata": {},
   "outputs": [],
   "source": [
    "def runKNN(tx):\n",
    "    return tx.run(\n",
    "        \"\"\"\n",
    "        CALL gds.beta.knn.write('payment', \n",
    "        {\n",
    "            writeRelationshipType: 'SIMILAR_EMBEDDING',\n",
    "            writeProperty: 'score',\n",
    "            topK: 5,\n",
    "            randomSeed: 42,\n",
    "            nodeWeightProperty: 'fastRP'\n",
    "        }) YIELD nodesCompared, relationshipsWritten\n",
    "        \"\"\"\n",
    "    ).consume()"
   ]
  },
  {
   "cell_type": "code",
   "execution_count": 7,
   "metadata": {},
   "outputs": [],
   "source": [
    "def dropGraphProjection(tx):\n",
    "    return tx.run(\"CALL gds.graph.drop('payment')\").consume()"
   ]
  },
  {
   "cell_type": "code",
   "execution_count": 8,
   "metadata": {},
   "outputs": [
    {
     "output_type": "stream",
     "name": "stdout",
     "text": [
      "<neo4j.work.summary.ResultSummary object at 0x1057ae5e0>\n"
     ]
    }
   ],
   "source": [
    "# Create projection \n",
    "with driver.session(database = \"paysim\") as session:\n",
    "    result = session.read_transaction(createGraphProjection)\n",
    "    print(result)"
   ]
  },
  {
   "cell_type": "code",
   "execution_count": 9,
   "metadata": {},
   "outputs": [
    {
     "output_type": "stream",
     "name": "stdout",
     "text": [
      "<neo4j.work.summary.ResultSummary object at 0x10e938880>\n"
     ]
    }
   ],
   "source": [
    "# Calculate embedding (mutate)\n",
    "with driver.session(database = \"paysim\") as session:\n",
    "    result = session.write_transaction(runFastRP)\n",
    "    print(result)"
   ]
  },
  {
   "cell_type": "code",
   "execution_count": 10,
   "metadata": {},
   "outputs": [
    {
     "output_type": "stream",
     "name": "stdout",
     "text": [
      "<neo4j.work.summary.ResultSummary object at 0x10e9d15b0>\n"
     ]
    }
   ],
   "source": [
    "# KNN + write back relationships\n",
    "with driver.session(database = \"paysim\") as session:\n",
    "    result = session.write_transaction(runKNN)\n",
    "    print(result)"
   ]
  },
  {
   "cell_type": "code",
   "execution_count": 11,
   "metadata": {},
   "outputs": [
    {
     "output_type": "stream",
     "name": "stdout",
     "text": [
      "<neo4j.work.summary.ResultSummary object at 0x10e96beb0>\n"
     ]
    }
   ],
   "source": [
    "# Write back embedding\n",
    "with driver.session(database = \"paysim\") as session:\n",
    "    result = session.write_transaction(writeEmbedding)\n",
    "    print(result)"
   ]
  },
  {
   "cell_type": "code",
   "execution_count": 12,
   "metadata": {},
   "outputs": [
    {
     "output_type": "stream",
     "name": "stdout",
     "text": [
      "<neo4j.work.summary.ResultSummary object at 0x105749c40>\n"
     ]
    }
   ],
   "source": [
    "# Drop projection\n",
    "with driver.session(database = \"paysim\") as session:\n",
    "    result = session.read_transaction(dropGraphProjection)\n",
    "    print(result)"
   ]
  },
  {
   "source": [
    "*demo query*\n",
    "```cypher\n",
    "//Similar demo\n",
    "match p=(m:Mule)-[:SIMILAR_EMBEDDING]-(c:Client)\n",
    "WITH p,m,c skip 1 limit 1\n",
    "call {\n",
    "  WITH m\n",
    "  MATCH mp=(m)-[:PAYS*1..2]-()\n",
    "  RETURN collect(mp)[0..100] as mp\n",
    "}\n",
    "call {\n",
    "  WITH c\n",
    "  MATCH cp=(c)-[:PAYS*1..2]-() \n",
    "  RETURN collect(cp)[0..100] as cp\n",
    "}\n",
    "RETURN p, mp, cp\n",
    "```"
   ],
   "cell_type": "markdown",
   "metadata": {}
  },
  {
   "source": [
    "*clean up*\n",
    "```cypher\n",
    "//Remove relationship produced by knn\n",
    "match ()-[r:SIMILAR_EMBEDDING]-() delete r\n",
    "```"
   ],
   "cell_type": "markdown",
   "metadata": {}
  }
 ],
 "metadata": {
  "kernelspec": {
   "name": "python3",
   "display_name": "Python 3",
   "language": "python"
  },
  "language_info": {
   "codemirror_mode": {
    "name": "ipython",
    "version": 3
   },
   "file_extension": ".py",
   "mimetype": "text/x-python",
   "name": "python",
   "nbconvert_exporter": "python",
   "pygments_lexer": "ipython3",
   "version": "3.8.6-final"
  }
 },
 "nbformat": 4,
 "nbformat_minor": 4
}