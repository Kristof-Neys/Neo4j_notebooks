{
 "cells": [
  {
   "cell_type": "markdown",
   "metadata": {},
   "source": [
    "# Running the node2vec Embedding\n",
    "\n",
    "In this notebook we're going to generate graph embeddings using the node2vec algorithm. We'll then explore those embeddings using Python Data Science tools.\n",
    "\n",
    "Let's start by importing some libraries:"
   ]
  },
  {
   "cell_type": "code",
   "execution_count": 1,
   "metadata": {},
   "outputs": [],
   "source": [
    "from neo4j import GraphDatabase\n",
    "from neo4j.exceptions import ClientError\n",
    "from sklearn.manifold import TSNE\n",
    "\n",
    "import numpy as np\n",
    "import altair as alt\n",
    "import pandas as pd\n",
    "import os"
   ]
  },
  {
   "cell_type": "markdown",
   "metadata": {},
   "source": [
    "Once we've done that we can initialise the Neo4j driver."
   ]
  },
  {
   "cell_type": "code",
   "execution_count": 3,
   "metadata": {},
   "outputs": [],
   "source": [
    "bolt_url = os.getenv(\"NEO4J_BOLT_URL\", \"bolt://localhost\")\n",
    "user = os.getenv(\"NEO4J_USER\", \"neo4j\")\n",
    "password = os.getenv(\"NEO4J_PASSWORD\", \"neo\")\n",
    "driver = GraphDatabase.driver(\"bolt://graph-embeddings-neo4j\", auth=(user, password))"
   ]
  },
  {
   "cell_type": "markdown",
   "metadata": {},
   "source": [
    "We should have already imported the dataset. We can run the following query to check that the data has been imported:"
   ]
  },
  {
   "cell_type": "code",
   "execution_count": 4,
   "metadata": {},
   "outputs": [
    {
     "data": {
      "text/html": [
       "<div>\n",
       "<style scoped>\n",
       "    .dataframe tbody tr th:only-of-type {\n",
       "        vertical-align: middle;\n",
       "    }\n",
       "\n",
       "    .dataframe tbody tr th {\n",
       "        vertical-align: top;\n",
       "    }\n",
       "\n",
       "    .dataframe thead th {\n",
       "        text-align: right;\n",
       "    }\n",
       "</style>\n",
       "<table border=\"1\" class=\"dataframe\">\n",
       "  <thead>\n",
       "    <tr style=\"text-align: right;\">\n",
       "      <th></th>\n",
       "      <th>label</th>\n",
       "      <th>count</th>\n",
       "    </tr>\n",
       "  </thead>\n",
       "  <tbody>\n",
       "    <tr>\n",
       "      <th>0</th>\n",
       "      <td>Place</td>\n",
       "      <td>894</td>\n",
       "    </tr>\n",
       "  </tbody>\n",
       "</table>\n",
       "</div>"
      ],
      "text/plain": [
       "   label  count\n",
       "0  Place    894"
      ]
     },
     "metadata": {},
     "output_type": "display_data"
    },
    {
     "data": {
      "text/html": [
       "<div>\n",
       "<style scoped>\n",
       "    .dataframe tbody tr th:only-of-type {\n",
       "        vertical-align: middle;\n",
       "    }\n",
       "\n",
       "    .dataframe tbody tr th {\n",
       "        vertical-align: top;\n",
       "    }\n",
       "\n",
       "    .dataframe thead th {\n",
       "        text-align: right;\n",
       "    }\n",
       "</style>\n",
       "<table border=\"1\" class=\"dataframe\">\n",
       "  <thead>\n",
       "    <tr style=\"text-align: right;\">\n",
       "      <th></th>\n",
       "      <th>relType</th>\n",
       "      <th>count</th>\n",
       "    </tr>\n",
       "  </thead>\n",
       "  <tbody>\n",
       "    <tr>\n",
       "      <th>0</th>\n",
       "      <td>EROAD</td>\n",
       "      <td>1250</td>\n",
       "    </tr>\n",
       "  </tbody>\n",
       "</table>\n",
       "</div>"
      ],
      "text/plain": [
       "  relType  count\n",
       "0   EROAD   1250"
      ]
     },
     "metadata": {},
     "output_type": "display_data"
    }
   ],
   "source": [
    "result = {\"label\": [], \"count\": []}\n",
    "with driver.session(database=\"eroads\") as session:\n",
    "    for row in session.run(\"CALL db.labels()\"):\n",
    "        label = row[\"label\"]\n",
    "        query = f\"MATCH (:`{label}`) RETURN count(*) as count\"\n",
    "        count = session.run(query).single()[\"count\"]\n",
    "        result[\"label\"].append(label)\n",
    "        result[\"count\"].append(count)\n",
    "nodes_df = pd.DataFrame(data=result)\n",
    "nodes_df.sort_values(\"count\")\n",
    "\n",
    "result = {\"relType\": [], \"count\": []}\n",
    "with driver.session(database=\"eroads\") as session:\n",
    "    for row in session.run(\"CALL db.relationshipTypes()\"):\n",
    "        relationship_type = row[\"relationshipType\"]\n",
    "        query = f\"MATCH ()-[:`{relationship_type}`]->() RETURN count(*) as count\"\n",
    "        count = session.run(query).single()[\"count\"]\n",
    "        result[\"relType\"].append(relationship_type)\n",
    "        result[\"count\"].append(count)\n",
    "rels_df = pd.DataFrame(data=result)\n",
    "rels_df.sort_values(\"count\")\n",
    "\n",
    "display(nodes_df)\n",
    "display(rels_df)"
   ]
  },
  {
   "cell_type": "markdown",
   "metadata": {},
   "source": [
    "We should have 894 `Place` nodes and 2,500 `EROAD` relationships.\n",
    "\n",
    "Now let's run some embeddings. We're going to run the streaming version of the node2vec algorithm. We need to define the following config:\n",
    "\n",
    "* `nodeProjection` - the node labels to use for our projected graph\n",
    "* `relationshipProjection` - the relationship types to use for our projected graph\n",
    "* `embeddingSize` - the size of the vector/list of numbers to create for each node\n",
    "* `iterations` - the number of iterations to run\n",
    "\n",
    "Let's give it a try:"
   ]
  },
  {
   "cell_type": "code",
   "execution_count": 8,
   "metadata": {},
   "outputs": [
    {
     "data": {
      "text/html": [
       "<div>\n",
       "<style scoped>\n",
       "    .dataframe tbody tr th:only-of-type {\n",
       "        vertical-align: middle;\n",
       "    }\n",
       "\n",
       "    .dataframe tbody tr th {\n",
       "        vertical-align: top;\n",
       "    }\n",
       "\n",
       "    .dataframe thead th {\n",
       "        text-align: right;\n",
       "    }\n",
       "</style>\n",
       "<table border=\"1\" class=\"dataframe\">\n",
       "  <thead>\n",
       "    <tr style=\"text-align: right;\">\n",
       "      <th></th>\n",
       "      <th>embedding</th>\n",
       "      <th>place</th>\n",
       "    </tr>\n",
       "  </thead>\n",
       "  <tbody>\n",
       "    <tr>\n",
       "      <th>0</th>\n",
       "      <td>[-1.0241117477416992, -0.09616520255804062, 3....</td>\n",
       "      <td>Larne</td>\n",
       "    </tr>\n",
       "    <tr>\n",
       "      <th>1</th>\n",
       "      <td>[-1.19605553150177, -0.4890177547931671, 3.287...</td>\n",
       "      <td>Belfast</td>\n",
       "    </tr>\n",
       "    <tr>\n",
       "      <th>2</th>\n",
       "      <td>[-1.7883660793304443, -0.9587492942810059, 2.3...</td>\n",
       "      <td>Dublin</td>\n",
       "    </tr>\n",
       "    <tr>\n",
       "      <th>3</th>\n",
       "      <td>[-2.3579163551330566, -1.1036665439605713, 2.7...</td>\n",
       "      <td>Wexford</td>\n",
       "    </tr>\n",
       "    <tr>\n",
       "      <th>4</th>\n",
       "      <td>[-2.9394874572753906, -0.9884549975395203, 2.7...</td>\n",
       "      <td>Rosslare</td>\n",
       "    </tr>\n",
       "  </tbody>\n",
       "</table>\n",
       "</div>"
      ],
      "text/plain": [
       "                                           embedding     place\n",
       "0  [-1.0241117477416992, -0.09616520255804062, 3....     Larne\n",
       "1  [-1.19605553150177, -0.4890177547931671, 3.287...   Belfast\n",
       "2  [-1.7883660793304443, -0.9587492942810059, 2.3...    Dublin\n",
       "3  [-2.3579163551330566, -1.1036665439605713, 2.7...   Wexford\n",
       "4  [-2.9394874572753906, -0.9884549975395203, 2.7...  Rosslare"
      ]
     },
     "execution_count": 8,
     "metadata": {},
     "output_type": "execute_result"
    }
   ],
   "source": [
    "with driver.session(database=\"neo4j\") as session:\n",
    "    result = session.run(\"\"\"\n",
    "    CALL gds.alpha.node2vec.stream({\n",
    "       nodeProjection: \"Place\",\n",
    "       relationshipProjection: {\n",
    "         eroad: {\n",
    "           type: \"EROAD\",\n",
    "           orientation: \"UNDIRECTED\"\n",
    "        }\n",
    "       },\n",
    "       embeddingSize: 10,\n",
    "       iterations: 10,\n",
    "       walkLength: 10\n",
    "    })\n",
    "    YIELD nodeId, embedding\n",
    "    RETURN gds.util.asNode(nodeId).name AS place, embedding\n",
    "    \"\"\")\n",
    "    \n",
    "    embeddings_df = pd.DataFrame([dict(record) for record in result])\n",
    "embeddings_df.head()"
   ]
  },
  {
   "cell_type": "markdown",
   "metadata": {},
   "source": [
    "So far everything looks good. Let's now store the embeddings in Neo4j, by using the write version of the algorithm:"
   ]
  },
  {
   "cell_type": "code",
   "execution_count": 10,
   "metadata": {},
   "outputs": [
    {
     "data": {
      "text/html": [
       "<div>\n",
       "<style scoped>\n",
       "    .dataframe tbody tr th:only-of-type {\n",
       "        vertical-align: middle;\n",
       "    }\n",
       "\n",
       "    .dataframe tbody tr th {\n",
       "        vertical-align: top;\n",
       "    }\n",
       "\n",
       "    .dataframe thead th {\n",
       "        text-align: right;\n",
       "    }\n",
       "</style>\n",
       "<table border=\"1\" class=\"dataframe\">\n",
       "  <thead>\n",
       "    <tr style=\"text-align: right;\">\n",
       "      <th></th>\n",
       "      <th>computeMillis</th>\n",
       "      <th>configuration</th>\n",
       "      <th>createMillis</th>\n",
       "      <th>nodeCount</th>\n",
       "      <th>nodePropertiesWritten</th>\n",
       "      <th>writeMillis</th>\n",
       "    </tr>\n",
       "  </thead>\n",
       "  <tbody>\n",
       "    <tr>\n",
       "      <th>0</th>\n",
       "      <td>2405</td>\n",
       "      <td>{'initialLearningRate': 0.025, 'writeConcurren...</td>\n",
       "      <td>52</td>\n",
       "      <td>894</td>\n",
       "      <td>894</td>\n",
       "      <td>41</td>\n",
       "    </tr>\n",
       "  </tbody>\n",
       "</table>\n",
       "</div>"
      ],
      "text/plain": [
       "   computeMillis                                      configuration  \\\n",
       "0           2405  {'initialLearningRate': 0.025, 'writeConcurren...   \n",
       "\n",
       "   createMillis  nodeCount  nodePropertiesWritten  writeMillis  \n",
       "0            52        894                    894           41  "
      ]
     },
     "execution_count": 10,
     "metadata": {},
     "output_type": "execute_result"
    }
   ],
   "source": [
    "with driver.session(database=\"neo4j\") as session:\n",
    "    result = session.run(\"\"\"\n",
    "    CALL gds.alpha.node2vec.write({\n",
    "       nodeProjection: \"Place\",\n",
    "       relationshipProjection: {\n",
    "         eroad: {\n",
    "           type: \"EROAD\",\n",
    "           orientation: \"UNDIRECTED\"\n",
    "        }\n",
    "       },\n",
    "       embeddingSize: 10,\n",
    "       iterations: 10,\n",
    "       walkLength: 10,\n",
    "       writeProperty: $embeddingProperty\n",
    "    })\n",
    "    \"\"\", {\"embeddingProperty\": \"embeddingNode2vec\"})\n",
    "    \n",
    "    embeddings_df = pd.DataFrame([dict(record) for record in result])\n",
    "embeddings_df    "
   ]
  },
  {
   "cell_type": "code",
   "execution_count": 36,
   "metadata": {},
   "outputs": [
    {
     "data": {
      "text/html": [
       "<div>\n",
       "<style scoped>\n",
       "    .dataframe tbody tr th:only-of-type {\n",
       "        vertical-align: middle;\n",
       "    }\n",
       "\n",
       "    .dataframe tbody tr th {\n",
       "        vertical-align: top;\n",
       "    }\n",
       "\n",
       "    .dataframe thead th {\n",
       "        text-align: right;\n",
       "    }\n",
       "</style>\n",
       "<table border=\"1\" class=\"dataframe\">\n",
       "  <thead>\n",
       "    <tr style=\"text-align: right;\">\n",
       "      <th></th>\n",
       "      <th>country</th>\n",
       "      <th>embedding</th>\n",
       "      <th>place</th>\n",
       "    </tr>\n",
       "  </thead>\n",
       "  <tbody>\n",
       "    <tr>\n",
       "      <th>0</th>\n",
       "      <td>GB</td>\n",
       "      <td>[0.31507408618927, 2.386936902999878, -1.13895...</td>\n",
       "      <td>Larne</td>\n",
       "    </tr>\n",
       "    <tr>\n",
       "      <th>1</th>\n",
       "      <td>GB</td>\n",
       "      <td>[-0.1721758246421814, 2.413466453552246, -1.18...</td>\n",
       "      <td>Belfast</td>\n",
       "    </tr>\n",
       "    <tr>\n",
       "      <th>2</th>\n",
       "      <td>E</td>\n",
       "      <td>[0.1272381842136383, 2.110171318054199, -2.385...</td>\n",
       "      <td>La Coruña</td>\n",
       "    </tr>\n",
       "    <tr>\n",
       "      <th>3</th>\n",
       "      <td>E</td>\n",
       "      <td>[0.010006282478570938, 2.0815513134002686, -2....</td>\n",
       "      <td>Pontevedra</td>\n",
       "    </tr>\n",
       "    <tr>\n",
       "      <th>4</th>\n",
       "      <td>E</td>\n",
       "      <td>[0.3130505383014679, -1.9364209175109863, -1.0...</td>\n",
       "      <td>Huelva</td>\n",
       "    </tr>\n",
       "  </tbody>\n",
       "</table>\n",
       "</div>"
      ],
      "text/plain": [
       "  country                                          embedding       place\n",
       "0      GB  [0.31507408618927, 2.386936902999878, -1.13895...       Larne\n",
       "1      GB  [-0.1721758246421814, 2.413466453552246, -1.18...     Belfast\n",
       "2       E  [0.1272381842136383, 2.110171318054199, -2.385...   La Coruña\n",
       "3       E  [0.010006282478570938, 2.0815513134002686, -2....  Pontevedra\n",
       "4       E  [0.3130505383014679, -1.9364209175109863, -1.0...      Huelva"
      ]
     },
     "execution_count": 36,
     "metadata": {},
     "output_type": "execute_result"
    }
   ],
   "source": [
    "with driver.session(database=\"neo4j\") as session:\n",
    "    result = session.run(\"\"\"\n",
    "    MATCH (p:Place)-[:IN_COUNTRY]->(country)\n",
    "    WHERE country.code IN $countries\n",
    "    RETURN p.name AS place, p.embeddingNode2vec AS embedding, country.code AS country\n",
    "    \"\"\", {\"countries\": [\"E\", \"GB\", \"F\", \"TR\", \"I\", \"D\", \"GR\"]})\n",
    "    X = pd.DataFrame([dict(record) for record in result])\n",
    "X.head()    "
   ]
  },
  {
   "cell_type": "code",
   "execution_count": 39,
   "metadata": {},
   "outputs": [
    {
     "data": {
      "text/html": [
       "<div>\n",
       "<style scoped>\n",
       "    .dataframe tbody tr th:only-of-type {\n",
       "        vertical-align: middle;\n",
       "    }\n",
       "\n",
       "    .dataframe tbody tr th {\n",
       "        vertical-align: top;\n",
       "    }\n",
       "\n",
       "    .dataframe thead th {\n",
       "        text-align: right;\n",
       "    }\n",
       "</style>\n",
       "<table border=\"1\" class=\"dataframe\">\n",
       "  <thead>\n",
       "    <tr style=\"text-align: right;\">\n",
       "      <th></th>\n",
       "      <th>place</th>\n",
       "      <th>country</th>\n",
       "      <th>x</th>\n",
       "      <th>y</th>\n",
       "    </tr>\n",
       "  </thead>\n",
       "  <tbody>\n",
       "    <tr>\n",
       "      <th>0</th>\n",
       "      <td>Larne</td>\n",
       "      <td>GB</td>\n",
       "      <td>23.597162</td>\n",
       "      <td>-3.478853</td>\n",
       "    </tr>\n",
       "    <tr>\n",
       "      <th>1</th>\n",
       "      <td>Belfast</td>\n",
       "      <td>GB</td>\n",
       "      <td>23.132071</td>\n",
       "      <td>-4.331254</td>\n",
       "    </tr>\n",
       "    <tr>\n",
       "      <th>2</th>\n",
       "      <td>La Coruña</td>\n",
       "      <td>E</td>\n",
       "      <td>-6.959006</td>\n",
       "      <td>7.212301</td>\n",
       "    </tr>\n",
       "    <tr>\n",
       "      <th>3</th>\n",
       "      <td>Pontevedra</td>\n",
       "      <td>E</td>\n",
       "      <td>-6.563524</td>\n",
       "      <td>7.505499</td>\n",
       "    </tr>\n",
       "    <tr>\n",
       "      <th>4</th>\n",
       "      <td>Huelva</td>\n",
       "      <td>E</td>\n",
       "      <td>-11.583806</td>\n",
       "      <td>11.094340</td>\n",
       "    </tr>\n",
       "  </tbody>\n",
       "</table>\n",
       "</div>"
      ],
      "text/plain": [
       "        place country          x          y\n",
       "0       Larne      GB  23.597162  -3.478853\n",
       "1     Belfast      GB  23.132071  -4.331254\n",
       "2   La Coruña       E  -6.959006   7.212301\n",
       "3  Pontevedra       E  -6.563524   7.505499\n",
       "4      Huelva       E -11.583806  11.094340"
      ]
     },
     "execution_count": 39,
     "metadata": {},
     "output_type": "execute_result"
    }
   ],
   "source": [
    "X_embedded = TSNE(n_components=2, random_state=6).fit_transform(list(X.embedding))\n",
    "places = list(X.place)\n",
    "df = pd.DataFrame(data = {\n",
    "    \"place\": places,\n",
    "    \"country\": X.country,\n",
    "    \"x\": [value[0] for value in list(X_embedded)],\n",
    "    \"y\": [value[1] for value in list(X_embedded)]\n",
    "})\n",
    "df.head()"
   ]
  },
  {
   "cell_type": "markdown",
   "metadata": {},
   "source": [
    "We can then use the Altair visualization library to create a scatterplot of these coordinates:"
   ]
  },
  {
   "cell_type": "code",
   "execution_count": 41,
   "metadata": {},
   "outputs": [
    {
     "data": {
      "text/html": [
       "\n",
       "<div id=\"altair-viz-5fe357cf86304c128bd9192536eec2a1\"></div>\n",
       "<script type=\"text/javascript\">\n",
       "  (function(spec, embedOpt){\n",
       "    let outputDiv = document.currentScript.previousElementSibling;\n",
       "    if (outputDiv.id !== \"altair-viz-5fe357cf86304c128bd9192536eec2a1\") {\n",
       "      outputDiv = document.getElementById(\"altair-viz-5fe357cf86304c128bd9192536eec2a1\");\n",
       "    }\n",
       "    const paths = {\n",
       "      \"vega\": \"https://cdn.jsdelivr.net/npm//vega@5?noext\",\n",
       "      \"vega-lib\": \"https://cdn.jsdelivr.net/npm//vega-lib?noext\",\n",
       "      \"vega-lite\": \"https://cdn.jsdelivr.net/npm//vega-lite@4.8.1?noext\",\n",
       "      \"vega-embed\": \"https://cdn.jsdelivr.net/npm//vega-embed@6?noext\",\n",
       "    };\n",
       "\n",
       "    function loadScript(lib) {\n",
       "      return new Promise(function(resolve, reject) {\n",
       "        var s = document.createElement('script');\n",
       "        s.src = paths[lib];\n",
       "        s.async = true;\n",
       "        s.onload = () => resolve(paths[lib]);\n",
       "        s.onerror = () => reject(`Error loading script: ${paths[lib]}`);\n",
       "        document.getElementsByTagName(\"head\")[0].appendChild(s);\n",
       "      });\n",
       "    }\n",
       "\n",
       "    function showError(err) {\n",
       "      outputDiv.innerHTML = `<div class=\"error\" style=\"color:red;\">${err}</div>`;\n",
       "      throw err;\n",
       "    }\n",
       "\n",
       "    function displayChart(vegaEmbed) {\n",
       "      vegaEmbed(outputDiv, spec, embedOpt)\n",
       "        .catch(err => showError(`Javascript Error: ${err.message}<br>This usually means there's a typo in your chart specification. See the javascript console for the full traceback.`));\n",
       "    }\n",
       "\n",
       "    if(typeof define === \"function\" && define.amd) {\n",
       "      requirejs.config({paths});\n",
       "      require([\"vega-embed\"], displayChart, err => showError(`Error loading script: ${err.message}`));\n",
       "    } else if (typeof vegaEmbed === \"function\") {\n",
       "      displayChart(vegaEmbed);\n",
       "    } else {\n",
       "      loadScript(\"vega\")\n",
       "        .then(() => loadScript(\"vega-lite\"))\n",
       "        .then(() => loadScript(\"vega-embed\"))\n",
       "        .catch(showError)\n",
       "        .then(() => displayChart(vegaEmbed));\n",
       "    }\n",
       "  })({\"config\": {\"view\": {\"continuousWidth\": 400, \"continuousHeight\": 300}}, \"data\": {\"name\": \"data-82a7b16c074939462766f6a0e1a1eda0\"}, \"mark\": {\"type\": \"circle\", \"size\": 60}, \"encoding\": {\"tooltip\": [{\"type\": \"nominal\", \"field\": \"place\"}, {\"type\": \"nominal\", \"field\": \"country\"}], \"x\": {\"type\": \"quantitative\", \"field\": \"x\"}, \"y\": {\"type\": \"quantitative\", \"field\": \"y\"}}, \"height\": 400, \"width\": 700, \"$schema\": \"https://vega.github.io/schema/vega-lite/v4.8.1.json\", \"datasets\": {\"data-82a7b16c074939462766f6a0e1a1eda0\": [{\"place\": \"Larne\", \"country\": \"GB\", \"x\": 23.5971622467041, \"y\": -3.4788525104522705}, {\"place\": \"Belfast\", \"country\": \"GB\", \"x\": 23.132070541381836, \"y\": -4.331253528594971}, {\"place\": \"La Coru\\u00f1a\", \"country\": \"E\", \"x\": -6.959006309509277, \"y\": 7.212301254272461}, {\"place\": \"Pontevedra\", \"country\": \"E\", \"x\": -6.56352424621582, \"y\": 7.505499362945557}, {\"place\": \"Huelva\", \"country\": \"E\", \"x\": -11.583806037902832, \"y\": 11.094340324401855}, {\"place\": \"Cherbourg\", \"country\": \"F\", \"x\": -1.398701786994934, \"y\": 1.7606923580169678}, {\"place\": \"Rennes\", \"country\": \"F\", \"x\": -2.0304977893829346, \"y\": 0.9728484749794006}, {\"place\": \"Nantes\", \"country\": \"F\", \"x\": -3.222228527069092, \"y\": 0.9669696092605591}, {\"place\": \"Greenock\", \"country\": \"GB\", \"x\": 22.48859977722168, \"y\": -5.141818046569824}, {\"place\": \"Glasgow\", \"country\": \"GB\", \"x\": 22.007535934448242, \"y\": -4.52088737487793}, {\"place\": \"Gretna\", \"country\": \"GB\", \"x\": 21.686342239379883, \"y\": -3.2372586727142334}, {\"place\": \"Carlisle\", \"country\": \"GB\", \"x\": 20.80674171447754, \"y\": -3.629676580429077}, {\"place\": \"Penrith\", \"country\": \"GB\", \"x\": 20.163745880126953, \"y\": -2.782966375350952}, {\"place\": \"Preston\", \"country\": \"GB\", \"x\": 19.28508186340332, \"y\": -2.0759246349334717}, {\"place\": \"Warrington\", \"country\": \"GB\", \"x\": 17.830751419067383, \"y\": -1.7032060623168945}, {\"place\": \"Birmingham\", \"country\": \"GB\", \"x\": 16.939695358276367, \"y\": -0.6337239146232605}, {\"place\": \"Newbury\", \"country\": \"GB\", \"x\": 4.114959716796875, \"y\": -4.3097920417785645}, {\"place\": \"Southampton\", \"country\": \"GB\", \"x\": 3.2061350345611572, \"y\": -4.4229841232299805}, {\"place\": \"Le Havre\", \"country\": \"F\", \"x\": 2.03605318069458, \"y\": -4.396010398864746}, {\"place\": \"Paris\", \"country\": \"F\", \"x\": 0.15768936276435852, \"y\": -3.60566782951355}, {\"place\": \"Orl\\u00e9ans\", \"country\": \"F\", \"x\": -3.302507162094116, \"y\": -1.8680168390274048}, {\"place\": \"Tours\", \"country\": \"F\", \"x\": -4.090080738067627, \"y\": -0.3519839644432068}, {\"place\": \"Poitiers\", \"country\": \"F\", \"x\": -5.269989967346191, \"y\": -1.1011312007904053}, {\"place\": \"Bordeaux\", \"country\": \"F\", \"x\": -8.660426139831543, \"y\": 2.9834437370300293}, {\"place\": \"San Sebasti\\u00e1n\", \"country\": \"E\", \"x\": -8.918471336364746, \"y\": 4.871042728424072}, {\"place\": \"Burgos\", \"country\": \"E\", \"x\": -10.119176864624023, \"y\": 8.080099105834961}, {\"place\": \"Madrid\", \"country\": \"E\", \"x\": -11.763603210449219, \"y\": 7.772871017456055}, {\"place\": \"Cord\\u00f3ba\", \"country\": \"E\", \"x\": -11.894949913024902, \"y\": 9.241196632385254}, {\"place\": \"Sevilla\", \"country\": \"E\", \"x\": -11.761260986328125, \"y\": 10.298996925354004}, {\"place\": \"C\\u00e1diz\", \"country\": \"E\", \"x\": -12.774252891540527, \"y\": 10.653653144836426}, {\"place\": \"Pau\", \"country\": \"F\", \"x\": -10.007491111755371, \"y\": 4.234782695770264}, {\"place\": \"Ja\\u00e7a\", \"country\": \"E\", \"x\": -10.981873512268066, \"y\": 5.192709922790527}, {\"place\": \"Huesca\", \"country\": \"E\", \"x\": -11.527820587158203, \"y\": 5.869046211242676}, {\"place\": \"Limoges\", \"country\": \"F\", \"x\": -7.485523223876953, \"y\": 2.289020538330078}, {\"place\": \"Toulouse\", \"country\": \"F\", \"x\": -11.002041816711426, \"y\": 2.537926435470581}, {\"place\": \"Vierzon\", \"country\": \"F\", \"x\": -6.056710243225098, \"y\": 0.2668803632259369}, {\"place\": \"Montlu\\u00e7on\", \"country\": \"F\", \"x\": -7.107753753662109, \"y\": 0.14503557980060577}, {\"place\": \"Clermont-Ferrand\", \"country\": \"F\", \"x\": -7.978862285614014, \"y\": -0.052667297422885895}, {\"place\": \"Doncaster\", \"country\": \"GB\", \"x\": 14.74386978149414, \"y\": -2.9935872554779053}, {\"place\": \"Sheffield\", \"country\": \"GB\", \"x\": 14.015390396118164, \"y\": -2.2175099849700928}, {\"place\": \"Nottingham\", \"country\": \"GB\", \"x\": 13.333251953125, \"y\": -1.741382360458374}, {\"place\": \"Leicester\", \"country\": \"GB\", \"x\": 12.757813453674316, \"y\": -1.2411220073699951}, {\"place\": \"Northampton\", \"country\": \"GB\", \"x\": 12.112601280212402, \"y\": -0.7742995619773865}, {\"place\": \"Inverness\", \"country\": \"GB\", \"x\": 21.856664657592773, \"y\": -6.530788421630859}, {\"place\": \"Perth\", \"country\": \"GB\", \"x\": 21.48891258239746, \"y\": -6.205822467803955}, {\"place\": \"Edinburgh\", \"country\": \"GB\", \"x\": 21.092182159423828, \"y\": -5.492187976837158}, {\"place\": \"Newcastle upon Tyne\", \"country\": \"GB\", \"x\": 19.848970413208008, \"y\": -4.661495208740234}, {\"place\": \"Scotch Corner\", \"country\": \"GB\", \"x\": 15.416053771972656, \"y\": -2.637514352798462}, {\"place\": \"London\", \"country\": \"GB\", \"x\": 11.776893615722656, \"y\": -1.6623870134353638}, {\"place\": \"Folkestone\", \"country\": \"GB\", \"x\": 10.75255298614502, \"y\": -0.6844444870948792}, {\"place\": \"Dover\", \"country\": \"GB\", \"x\": 3.3834657669067383, \"y\": 0.08573795109987259}, {\"place\": \"Calais\", \"country\": \"F\", \"x\": 1.9836957454681396, \"y\": -0.00939176045358181}, {\"place\": \"Lyon\", \"country\": \"F\", \"x\": -9.397947311401367, \"y\": -2.1186885833740234}, {\"place\": \"Orange\", \"country\": \"F\", \"x\": -10.881640434265137, \"y\": -0.8981896638870239}, {\"place\": \"Narbonne\", \"country\": \"F\", \"x\": -12.346360206604004, \"y\": 1.5617111921310425}, {\"place\": \"Gerona\", \"country\": \"E\", \"x\": -12.793927192687988, \"y\": 2.5888760089874268}, {\"place\": \"Barcelona\", \"country\": \"E\", \"x\": -13.621905326843262, \"y\": 4.2415618896484375}, {\"place\": \"Tarragona\", \"country\": \"E\", \"x\": -14.593783378601074, \"y\": 6.0760416984558105}, {\"place\": \"Castell\\u00f3n de la Plana\", \"country\": \"E\", \"x\": -14.443511962890625, \"y\": 7.162911891937256}, {\"place\": \"Valencia\", \"country\": \"E\", \"x\": -13.909449577331543, \"y\": 7.966099739074707}, {\"place\": \"Alicante\", \"country\": \"E\", \"x\": -14.17626667022705, \"y\": 9.041487693786621}, {\"place\": \"Murcia\", \"country\": \"E\", \"x\": -14.072918891906738, \"y\": 9.93184757232666}, {\"place\": \"Londonderry\", \"country\": \"GB\", \"x\": 23.773635864257812, \"y\": -4.81967306137085}, {\"place\": \"Cambrai\", \"country\": \"F\", \"x\": -1.5458757877349854, \"y\": -5.438036918640137}, {\"place\": \"Reims\", \"country\": \"F\", \"x\": -0.7042584419250488, \"y\": -5.923524379730225}, {\"place\": \"Craigavon\", \"country\": \"GB\", \"x\": 24.06673812866211, \"y\": -4.093369483947754}, {\"place\": \"Stranraer\", \"country\": \"GB\", \"x\": 22.634572982788086, \"y\": -3.5315253734588623}, {\"place\": \"Valenciennes\", \"country\": \"F\", \"x\": 0.2120671421289444, \"y\": -2.6560583114624023}, {\"place\": \"Liverpool\", \"country\": \"GB\", \"x\": 18.023229598999023, \"y\": -3.783348321914673}, {\"place\": \"Manchester\", \"country\": \"GB\", \"x\": 17.33757781982422, \"y\": -3.331777572631836}, {\"place\": \"Bradford\", \"country\": \"GB\", \"x\": 16.726041793823242, \"y\": -4.093443870544434}, {\"place\": \"Leeds\", \"country\": \"GB\", \"x\": 16.138818740844727, \"y\": -4.050961017608643}, {\"place\": \"Kingston upon Hull\", \"country\": \"GB\", \"x\": 15.898813247680664, \"y\": -4.821465492248535}, {\"place\": \"Metz\", \"country\": \"F\", \"x\": 0.030041571706533432, \"y\": -8.28465747833252}, {\"place\": \"Nancy\", \"country\": \"F\", \"x\": -1.2419283390045166, \"y\": -8.18237018585205}, {\"place\": \"Dijon\", \"country\": \"F\", \"x\": -2.852651357650757, \"y\": -7.421395778656006}, {\"place\": \"Holyhead\", \"country\": \"GB\", \"x\": 18.557422637939453, \"y\": -0.5894159078598022}, {\"place\": \"Chester\", \"country\": \"GB\", \"x\": 18.395126342773438, \"y\": -0.8388182520866394}, {\"place\": \"Immingham\", \"country\": \"GB\", \"x\": 14.568231582641602, \"y\": -3.6665737628936768}, {\"place\": \"Oldenburg\", \"country\": \"D\", \"x\": 7.941713809967041, \"y\": -27.899578094482422}, {\"place\": \"Bremen\", \"country\": \"D\", \"x\": 8.683462142944336, \"y\": -26.206680297851562}, {\"place\": \"Hamburg\", \"country\": \"D\", \"x\": 9.979331970214844, \"y\": -25.15793228149414}, {\"place\": \"L\\u00fcbeck\", \"country\": \"D\", \"x\": 11.243134498596191, \"y\": -25.61957550048828}, {\"place\": \"Rostock\", \"country\": \"D\", \"x\": 11.993141174316406, \"y\": -24.866527557373047}, {\"place\": \"Stralsund\", \"country\": \"D\", \"x\": 12.938358306884766, \"y\": -24.570016860961914}, {\"place\": \"Sa\\u00dfnitz\", \"country\": \"D\", \"x\": 13.543252944946289, \"y\": -24.72429656982422}, {\"place\": \"Besan\\u00e7on\", \"country\": \"F\", \"x\": -2.280143976211548, \"y\": -8.36921501159668}, {\"place\": \"Hasel\\u00fcnne\", \"country\": \"D\", \"x\": 7.417094707489014, \"y\": -27.33146858215332}, {\"place\": \"Cloppenburg\", \"country\": \"D\", \"x\": 8.030067443847656, \"y\": -26.904441833496094}, {\"place\": \"Cuxhaven\", \"country\": \"D\", \"x\": 9.135287284851074, \"y\": -27.648082733154297}, {\"place\": \"Bremerhaven\", \"country\": \"D\", \"x\": 9.73828411102295, \"y\": -27.153949737548828}, {\"place\": \"Cambridge\", \"country\": \"GB\", \"x\": 15.976076126098633, \"y\": -0.017288867384195328}, {\"place\": \"Saint-Avold\", \"country\": \"F\", \"x\": -1.2829909324645996, \"y\": -10.026856422424316}, {\"place\": \"Strasbourg\", \"country\": \"F\", \"x\": -1.6032625436782837, \"y\": -11.456826210021973}, {\"place\": \"Mulhouse\", \"country\": \"F\", \"x\": -2.663499593734741, \"y\": -11.414657592773438}, {\"place\": \"Mont-Blanc\", \"country\": \"F\", \"x\": -12.16016674041748, \"y\": -5.333008766174316}, {\"place\": \"Aosta\", \"country\": \"I\", \"x\": -13.018525123596191, \"y\": -5.599806785583496}, {\"place\": \"Ivrea\", \"country\": \"I\", \"x\": -14.080989837646484, \"y\": -5.371862411499023}, {\"place\": \"Vercelli\", \"country\": \"I\", \"x\": -15.067801475524902, \"y\": -5.4742608070373535}, {\"place\": \"Alessandria\", \"country\": \"I\", \"x\": -16.12521743774414, \"y\": -5.097818374633789}, {\"place\": \"Neubrandenburg\", \"country\": \"D\", \"x\": 12.164456367492676, \"y\": -23.958858489990234}, {\"place\": \"Belfort\", \"country\": \"F\", \"x\": -2.9184298515319824, \"y\": -9.885645866394043}, {\"place\": \"Berlin\", \"country\": \"D\", \"x\": 11.451651573181152, \"y\": -23.07448387145996}, {\"place\": \"K\\u00f6ln\", \"country\": \"D\", \"x\": 5.720663070678711, \"y\": -13.392691612243652}, {\"place\": \"Saarbr\\u00fccken\", \"country\": \"D\", \"x\": 1.7598682641983032, \"y\": -9.908976554870605}, {\"place\": \"Fishguard\", \"country\": \"GB\", \"x\": 10.232194900512695, \"y\": -5.515523910522461}, {\"place\": \"Swansea\", \"country\": \"GB\", \"x\": 10.502212524414062, \"y\": -5.0185441970825195}, {\"place\": \"Cardiff\", \"country\": \"GB\", \"x\": 10.7564697265625, \"y\": -4.361581325531006}, {\"place\": \"Newport\", \"country\": \"GB\", \"x\": 11.051873207092285, \"y\": -3.547391414642334}, {\"place\": \"Bristol\", \"country\": \"GB\", \"x\": 11.40810775756836, \"y\": -2.7314212322235107}, {\"place\": \"Colchester\", \"country\": \"GB\", \"x\": 13.567115783691406, \"y\": -0.2899460196495056}, {\"place\": \"Ipswich\", \"country\": \"GB\", \"x\": 14.811856269836426, \"y\": 0.15536832809448242}, {\"place\": \"Felixstowe\", \"country\": \"GB\", \"x\": 14.411561012268066, \"y\": 0.7327826619148254}, {\"place\": \"Osnabr\\u00fcck\", \"country\": \"D\", \"x\": 7.436066627502441, \"y\": -25.376266479492188}, {\"place\": \"Bad Oeynhausen\", \"country\": \"D\", \"x\": 7.600131511688232, \"y\": -24.170969009399414}, {\"place\": \"Hannover\", \"country\": \"D\", \"x\": 8.617571830749512, \"y\": -24.140085220336914}, {\"place\": \"Braunschweig\", \"country\": \"D\", \"x\": 9.79853343963623, \"y\": -22.874832153320312}, {\"place\": \"Magdeburg\", \"country\": \"D\", \"x\": 10.44194507598877, \"y\": -22.19244384765625}, {\"place\": \"Goch\", \"country\": \"D\", \"x\": 7.5825676918029785, \"y\": -12.211692810058594}, {\"place\": \"Krefeld\", \"country\": \"D\", \"x\": 6.884232997894287, \"y\": -12.527629852294922}, {\"place\": \"Koblenz\", \"country\": \"D\", \"x\": 4.517012119293213, \"y\": -13.442280769348145}, {\"place\": \"Bingen\", \"country\": \"D\", \"x\": 3.9068386554718018, \"y\": -12.434493064880371}, {\"place\": \"Parma\", \"country\": \"I\", \"x\": -20.273130416870117, \"y\": -6.23898983001709}, {\"place\": \"Dortmund\", \"country\": \"D\", \"x\": 6.842099189758301, \"y\": -15.149897575378418}, {\"place\": \"Oberhausen\", \"country\": \"D\", \"x\": 6.840000152587891, \"y\": -14.07492733001709}, {\"place\": \"Emmerich\", \"country\": \"D\", \"x\": 7.845383644104004, \"y\": -13.979935646057129}, {\"place\": \"Frankfurt am Main\", \"country\": \"D\", \"x\": 3.4435181617736816, \"y\": -14.783785820007324}, {\"place\": \"Heidelberg\", \"country\": \"D\", \"x\": 0.12069292366504669, \"y\": -14.13798713684082}, {\"place\": \"Karlsruhe\", \"country\": \"D\", \"x\": -1.0882588624954224, \"y\": -14.213663101196289}, {\"place\": \"Offenburg\", \"country\": \"D\", \"x\": -1.9881532192230225, \"y\": -13.623037338256836}, {\"place\": \"Como\", \"country\": \"I\", \"x\": -17.43661117553711, \"y\": -7.593618392944336}, {\"place\": \"Milano\", \"country\": \"I\", \"x\": -17.48457145690918, \"y\": -6.711777687072754}, {\"place\": \"Piacenza\", \"country\": \"I\", \"x\": -18.917570114135742, \"y\": -6.300351619720459}, {\"place\": \"Modena\", \"country\": \"I\", \"x\": -21.4964656829834, \"y\": -6.512166976928711}, {\"place\": \"Firenze\", \"country\": \"I\", \"x\": -24.856914520263672, \"y\": -6.332618236541748}, {\"place\": \"Arezzo\", \"country\": \"I\", \"x\": -26.075292587280273, \"y\": -5.139607906341553}, {\"place\": \"L\\u00fcbbenau\", \"country\": \"D\", \"x\": 12.140900611877441, \"y\": -21.829973220825195}, {\"place\": \"Cottbus\", \"country\": \"D\", \"x\": 12.906882286071777, \"y\": -21.717872619628906}, {\"place\": \"Aachen\", \"country\": \"D\", \"x\": 5.689564228057861, \"y\": -11.713484764099121}, {\"place\": \"Olpe\", \"country\": \"D\", \"x\": 5.232255458831787, \"y\": -14.496054649353027}, {\"place\": \"Gie\\u00dfen\", \"country\": \"D\", \"x\": 4.988551139831543, \"y\": -15.557597160339355}, {\"place\": \"Bad Hersfeld\", \"country\": \"D\", \"x\": 5.861265659332275, \"y\": -16.926284790039062}, {\"place\": \"Herleshausen\", \"country\": \"D\", \"x\": 6.412364482879639, \"y\": -17.441072463989258}, {\"place\": \"Eisenach\", \"country\": \"D\", \"x\": 7.2508440017700195, \"y\": -18.326072692871094}, {\"place\": \"Erfurt\", \"country\": \"D\", \"x\": 7.915931224822998, \"y\": -19.253055572509766}, {\"place\": \"Gera\", \"country\": \"D\", \"x\": 8.3242826461792, \"y\": -20.093542098999023}, {\"place\": \"Chemnitz\", \"country\": \"D\", \"x\": 11.450599670410156, \"y\": -20.07984161376953}, {\"place\": \"Dresden\", \"country\": \"D\", \"x\": 12.300654411315918, \"y\": -20.272642135620117}, {\"place\": \"G\\u00f6rlitz\", \"country\": \"D\", \"x\": 12.810014724731445, \"y\": -20.795412063598633}, {\"place\": \"Saint-Brieuc\", \"country\": \"F\", \"x\": 0.03240298479795456, \"y\": 1.5692205429077148}, {\"place\": \"Rouen\", \"country\": \"F\", \"x\": 0.27624547481536865, \"y\": -0.15714117884635925}, {\"place\": \"Aschaffenburg\", \"country\": \"D\", \"x\": 3.698983669281006, \"y\": -16.001325607299805}, {\"place\": \"W\\u00fcrzburg\", \"country\": \"D\", \"x\": 0.5642789006233215, \"y\": -17.278026580810547}, {\"place\": \"Stuttgart\", \"country\": \"D\", \"x\": -0.7597931027412415, \"y\": -16.32870864868164}, {\"place\": \"Longwy\", \"country\": \"F\", \"x\": -0.06837471574544907, \"y\": -8.991719245910645}, {\"place\": \"Dunkerque\", \"country\": \"F\", \"x\": 1.2711412906646729, \"y\": -1.875221610069275}, {\"place\": \"Lille\", \"country\": \"F\", \"x\": 1.3199033737182617, \"y\": -1.9373482465744019}, {\"place\": \"Wittlich\", \"country\": \"D\", \"x\": 4.15920877456665, \"y\": -11.607611656188965}, {\"place\": \"Wiesbaden\", \"country\": \"D\", \"x\": 3.3581244945526123, \"y\": -13.368663787841797}, {\"place\": \"Trier\", \"country\": \"D\", \"x\": 2.3464112281799316, \"y\": -10.824840545654297}, {\"place\": \"Ulm\", \"country\": \"D\", \"x\": -0.7548047304153442, \"y\": -17.61501121520996}, {\"place\": \"Lindau\", \"country\": \"D\", \"x\": -1.7773537635803223, \"y\": -17.58916473388672}, {\"place\": \"Amiens\", \"country\": \"F\", \"x\": 2.1078407764434814, \"y\": -5.541355609893799}, {\"place\": \"Charleville-M\\u00e9zi\\u00e8res\", \"country\": \"F\", \"x\": 1.6310641765594482, \"y\": -6.437383651733398}, {\"place\": \"Flensburg\", \"country\": \"D\", \"x\": 10.41752815246582, \"y\": -24.93798828125}, {\"place\": \"G\\u00f6ttingen\", \"country\": \"D\", \"x\": 6.51369047164917, \"y\": -23.37136459350586}, {\"place\": \"Kassel\", \"country\": \"D\", \"x\": 5.54270076751709, \"y\": -22.871597290039062}, {\"place\": \"Fulda\", \"country\": \"D\", \"x\": 4.503615379333496, \"y\": -22.444164276123047}, {\"place\": \"N\\u00fcrnberg\", \"country\": \"D\", \"x\": 1.656064510345459, \"y\": -19.209766387939453}, {\"place\": \"M\\u00fcnchen\", \"country\": \"D\", \"x\": -1.129170298576355, \"y\": -19.103092193603516}, {\"place\": \"Rosenheim\", \"country\": \"D\", \"x\": -2.0282726287841797, \"y\": -19.764646530151367}, {\"place\": \"Passo di Brennero\", \"country\": \"I\", \"x\": -19.718856811523438, \"y\": -11.429598808288574}, {\"place\": \"Fortezza\", \"country\": \"I\", \"x\": -20.394712448120117, \"y\": -10.892166137695312}, {\"place\": \"Bolzano\", \"country\": \"I\", \"x\": -20.337966918945312, \"y\": -10.121238708496094}, {\"place\": \"Trento\", \"country\": \"I\", \"x\": -20.484403610229492, \"y\": -9.266358375549316}, {\"place\": \"Verona\", \"country\": \"I\", \"x\": -21.363197326660156, \"y\": -8.206002235412598}, {\"place\": \"Bologna\", \"country\": \"I\", \"x\": -22.516958236694336, \"y\": -6.132445335388184}, {\"place\": \"Cesena\", \"country\": \"I\", \"x\": -23.194658279418945, \"y\": -5.572836875915527}, {\"place\": \"Perugia\", \"country\": \"I\", \"x\": -23.402315139770508, \"y\": -4.116491794586182}, {\"place\": \"Fiano Romana\", \"country\": \"I\", \"x\": -26.159730911254883, \"y\": -2.8744289875030518}, {\"place\": \"San Cesareo\", \"country\": \"I\", \"x\": -26.80725860595703, \"y\": -2.2295610904693604}, {\"place\": \"Napoli\", \"country\": \"I\", \"x\": -27.153057098388672, \"y\": -0.9188058972358704}, {\"place\": \"Salerno\", \"country\": \"I\", \"x\": -27.025197982788086, \"y\": 1.147009253501892}, {\"place\": \"Sicignano degli Alburni\", \"country\": \"I\", \"x\": -26.806716918945312, \"y\": 2.967106342315674}, {\"place\": \"Cosenza\", \"country\": \"I\", \"x\": -24.195594787597656, \"y\": 4.514820575714111}, {\"place\": \"Villa San Giovanni\", \"country\": \"I\", \"x\": -23.43111801147461, \"y\": 5.192618370056152}, {\"place\": \"Messina\", \"country\": \"I\", \"x\": -22.428857803344727, \"y\": 6.044055938720703}, {\"place\": \"Cat\\u00e1nia\", \"country\": \"I\", \"x\": -21.08053207397461, \"y\": 5.718992233276367}, {\"place\": \"Siracusa\", \"country\": \"I\", \"x\": -20.153139114379883, \"y\": 6.178202152252197}, {\"place\": \"Caen\", \"country\": \"F\", \"x\": -0.5409186482429504, \"y\": 1.4458531141281128}, {\"place\": \"Schweinfurt\", \"country\": \"D\", \"x\": 3.080514669418335, \"y\": -19.648834228515625}, {\"place\": \"Bayreuth\", \"country\": \"D\", \"x\": 3.7717268466949463, \"y\": -19.79388999938965}, {\"place\": \"Marktredwitz\", \"country\": \"D\", \"x\": 3.154047966003418, \"y\": -20.386476516723633}, {\"place\": \"Halle\", \"country\": \"D\", \"x\": 10.504500389099121, \"y\": -20.9733829498291}, {\"place\": \"Plauen\", \"country\": \"D\", \"x\": 10.61394214630127, \"y\": -19.922727584838867}, {\"place\": \"Sch\\u00f6nberg\", \"country\": \"D\", \"x\": 10.888686180114746, \"y\": -19.21164894104004}, {\"place\": \"Brest\", \"country\": \"F\", \"x\": -2.450601816177368, \"y\": 1.5859017372131348}, {\"place\": \"Le Mans\", \"country\": \"F\", \"x\": -1.1319984197616577, \"y\": -0.8704816699028015}, {\"place\": \"Mannheim\", \"country\": \"D\", \"x\": 2.2779088020324707, \"y\": -15.68647289276123}, {\"place\": \"Heilbronn\", \"country\": \"D\", \"x\": 1.8946774005889893, \"y\": -18.113067626953125}, {\"place\": \"Leipzig\", \"country\": \"D\", \"x\": 8.737120628356934, \"y\": -20.93773651123047}, {\"place\": \"Hirschberg\", \"country\": \"D\", \"x\": 6.797916412353516, \"y\": -20.123003005981445}, {\"place\": \"Hof\", \"country\": \"D\", \"x\": 5.338122367858887, \"y\": -19.93424415588379}, {\"place\": \"Courtenay\", \"country\": \"F\", \"x\": -3.257859468460083, \"y\": -3.171924352645874}, {\"place\": \"Remiremont\", \"country\": \"F\", \"x\": -3.260014772415161, \"y\": -11.316241264343262}, {\"place\": \"Appenweier\", \"country\": \"D\", \"x\": -1.3453913927078247, \"y\": -12.76777172088623}, {\"place\": \"Bayerisch Eisenstein\", \"country\": \"D\", \"x\": -0.059131164103746414, \"y\": -19.510414123535156}, {\"place\": \"Deggendorf\", \"country\": \"D\", \"x\": -0.5675973296165466, \"y\": -19.812423706054688}, {\"place\": \"Memmingen\", \"country\": \"D\", \"x\": 5.535508632659912, \"y\": 10.623169898986816}, {\"place\": \"Garmisch-Partenkirchen\", \"country\": \"D\", \"x\": -1.371126651763916, \"y\": -20.599714279174805}, {\"place\": \"Mittenwald\", \"country\": \"D\", \"x\": -2.021897315979004, \"y\": -20.878618240356445}, {\"place\": \"Chaumont\", \"country\": \"F\", \"x\": -0.3625446557998657, \"y\": -4.320295810699463}, {\"place\": \"Waldshut\", \"country\": \"D\", \"x\": -2.4414544105529785, \"y\": -16.38420295715332}, {\"place\": \"Tarvisio\", \"country\": \"I\", \"x\": -22.321504592895508, \"y\": -11.202293395996094}, {\"place\": \"Udine\", \"country\": \"I\", \"x\": -22.535972595214844, \"y\": -10.580184936523438}, {\"place\": \"Palmanova\", \"country\": \"I\", \"x\": -22.88300323486328, \"y\": -9.558829307556152}, {\"place\": \"Ven\\u00e9zia-Mestre\", \"country\": \"I\", \"x\": -22.669559478759766, \"y\": -8.625020027160645}, {\"place\": \"Ravenna\", \"country\": \"I\", \"x\": -23.207244873046875, \"y\": -6.99080753326416}, {\"place\": \"Rimini\", \"country\": \"I\", \"x\": -24.141002655029297, \"y\": -4.996807098388672}, {\"place\": \"Fano\", \"country\": \"I\", \"x\": -24.71747589111328, \"y\": -3.9163105487823486}, {\"place\": \"Ancona\", \"country\": \"I\", \"x\": -24.911884307861328, \"y\": -2.8103275299072266}, {\"place\": \"Pescara\", \"country\": \"I\", \"x\": -24.953683853149414, \"y\": -1.7092781066894531}, {\"place\": \"Canosa di Puglia\", \"country\": \"I\", \"x\": -24.984228134155273, \"y\": -0.4415573477745056}, {\"place\": \"Bari\", \"country\": \"I\", \"x\": -24.61958122253418, \"y\": 0.7634481191635132}, {\"place\": \"Brindisi\", \"country\": \"I\", \"x\": 18.882522583007812, \"y\": 17.32467269897461}, {\"place\": \"Igoumen\\u00edtsa\", \"country\": \"GR\", \"x\": 19.51827621459961, \"y\": 16.568763732910156}, {\"place\": \"Pr\\u00e9veza\", \"country\": \"GR\", \"x\": 21.212949752807617, \"y\": 15.77026081085205}, {\"place\": \"Mesol\\u00f3ngi\", \"country\": \"GR\", \"x\": 22.494699478149414, \"y\": 14.948896408081055}, {\"place\": \"R\\u00edo\", \"country\": \"GR\", \"x\": 23.332931518554688, \"y\": 14.200518608093262}, {\"place\": \"P\\u00e1tra\", \"country\": \"GR\", \"x\": 24.294965744018555, \"y\": 13.705224990844727}, {\"place\": \"P\\u00edrgos\", \"country\": \"GR\", \"x\": 25.005826950073242, \"y\": 12.874105453491211}, {\"place\": \"Regensburg\", \"country\": \"D\", \"x\": 1.2851523160934448, \"y\": -20.16916275024414}, {\"place\": \"Passau\", \"country\": \"D\", \"x\": 0.88216632604599, \"y\": -20.836994171142578}, {\"place\": \"Beaune\", \"country\": \"F\", \"x\": -2.612062692642212, \"y\": -4.521388530731201}, {\"place\": \"Niort\", \"country\": \"F\", \"x\": -3.7456209659576416, \"y\": 2.812081813812256}, {\"place\": \"La Rochelle\", \"country\": \"F\", \"x\": -4.173297882080078, \"y\": 2.293398857116699}, {\"place\": \"Saintes\", \"country\": \"F\", \"x\": -5.157487869262695, \"y\": 2.798569917678833}, {\"place\": \"Angoul\\u00e8me\", \"country\": \"F\", \"x\": -6.443194389343262, \"y\": 2.814591884613037}, {\"place\": \"Digoin\", \"country\": \"F\", \"x\": 16.102760314941406, \"y\": 21.370744705200195}, {\"place\": \"Trieste\", \"country\": \"I\", \"x\": -23.659156799316406, \"y\": -9.834734916687012}, {\"place\": \"M\\u00e2con\", \"country\": \"F\", \"x\": -5.396193504333496, \"y\": -2.0935542583465576}, {\"place\": \"Gravellona Toce\", \"country\": \"I\", \"x\": -16.445571899414062, \"y\": -7.160453796386719}, {\"place\": \"Tortona\", \"country\": \"I\", \"x\": -17.542404174804688, \"y\": -5.756615161895752}, {\"place\": \"Torino\", \"country\": \"I\", \"x\": -14.689685821533203, \"y\": -4.42266321182251}, {\"place\": \"N\\u00edki\", \"country\": \"GR\", \"x\": 15.214874267578125, \"y\": 12.90333080291748}, {\"place\": \"V\\u00e9vi\", \"country\": \"GR\", \"x\": 15.982941627502441, \"y\": 12.858222961425781}, {\"place\": \"Koz\\u00e1ni\", \"country\": \"GR\", \"x\": 16.955076217651367, \"y\": 14.127524375915527}, {\"place\": \"L\\u00e1rissa\", \"country\": \"GR\", \"x\": 18.029512405395508, \"y\": 12.805914878845215}, {\"place\": \"Domok\\u00f3s\", \"country\": \"GR\", \"x\": 18.978782653808594, \"y\": 12.349879264831543}, {\"place\": \"Lam\\u00eda\", \"country\": \"GR\", \"x\": 20.355514526367188, \"y\": 11.402792930603027}, {\"place\": \"Br\\u00e1los\", \"country\": \"GR\", \"x\": 21.432619094848633, \"y\": 11.980154037475586}, {\"place\": \"It\\u00e9a\", \"country\": \"GR\", \"x\": 22.084842681884766, \"y\": 12.63381576538086}, {\"place\": \"Antirrio\", \"country\": \"GR\", \"x\": 22.69066047668457, \"y\": 13.32314395904541}, {\"place\": \"\\u00c9gio\", \"country\": \"GR\", \"x\": 23.685932159423828, \"y\": 12.940661430358887}, {\"place\": \"Korinthos\", \"country\": \"GR\", \"x\": 24.04945945739746, \"y\": 11.973869323730469}, {\"place\": \"Tr\\u00edpoli\", \"country\": \"GR\", \"x\": 25.586620330810547, \"y\": 12.014998435974121}, {\"place\": \"Kal\\u00e1mata\", \"country\": \"GR\", \"x\": 24.94485092163086, \"y\": 11.44406795501709}, {\"place\": \"Kiss\\u00e1mos\", \"country\": \"GR\", \"x\": 24.745500564575195, \"y\": 10.384750366210938}, {\"place\": \"San Candido\", \"country\": \"I\", \"x\": -20.987030029296875, \"y\": -11.392507553100586}, {\"place\": \"Oviedo\", \"country\": \"E\", \"x\": -7.79993200302124, \"y\": 6.807251930236816}, {\"place\": \"Bilbao\", \"country\": \"E\", \"x\": -8.701104164123535, \"y\": 6.311990261077881}, {\"place\": \"Chamb\\u00e9ry\", \"country\": \"F\", \"x\": -11.223213195800781, \"y\": -3.0664875507354736}, {\"place\": \"Susa\", \"country\": \"I\", \"x\": -13.18493366241455, \"y\": -3.6683099269866943}, {\"place\": \"Brescia\", \"country\": \"I\", \"x\": -18.933197021484375, \"y\": -7.33698844909668}, {\"place\": \"Samsun\", \"country\": \"TR\", \"x\": -7.273571968078613, \"y\": 18.552719116210938}, {\"place\": \"Ordu\", \"country\": \"TR\", \"x\": -6.577311038970947, \"y\": 18.728981018066406}, {\"place\": \"Giresun\", \"country\": \"TR\", \"x\": -5.939865589141846, \"y\": 18.476760864257812}, {\"place\": \"Valence\", \"country\": \"F\", \"x\": -8.556581497192383, \"y\": -2.5735421180725098}, {\"place\": \"Nice\", \"country\": \"F\", \"x\": -15.765765190124512, \"y\": -1.8014508485794067}, {\"place\": \"Cuneo\", \"country\": \"I\", \"x\": -15.680960655212402, \"y\": -2.6484317779541016}, {\"place\": \"Asti\", \"country\": \"I\", \"x\": -15.628253936767578, \"y\": -3.6339452266693115}, {\"place\": \"\\u00c9vzoni\", \"country\": \"GR\", \"x\": 13.43194580078125, \"y\": 14.756209373474121}, {\"place\": \"Thessalon\\u00edki\", \"country\": \"GR\", \"x\": 14.333922386169434, \"y\": 14.81318473815918}, {\"place\": \"Almir\\u00f3s\", \"country\": \"GR\", \"x\": 19.065885543823242, \"y\": 11.652661323547363}, {\"place\": \"Ath\\u00edna\", \"country\": \"GR\", \"x\": 22.974336624145508, \"y\": 10.833715438842773}, {\"place\": \"Chani\\u00e1\", \"country\": \"GR\", \"x\": 23.831974029541016, \"y\": 10.020209312438965}, {\"place\": \"Ir\\u00e1klio\", \"country\": \"GR\", \"x\": 24.353656768798828, \"y\": 9.272649765014648}, {\"place\": \"\\u00c1gios Nik\\u00f3laos\", \"country\": \"GR\", \"x\": 25.163738250732422, \"y\": 9.03685188293457}, {\"place\": \"Migliarino\", \"country\": \"I\", \"x\": -25.08905029296875, \"y\": -7.100902557373047}, {\"place\": \"Grosseto\", \"country\": \"I\", \"x\": -26.77565574645996, \"y\": -5.199272155761719}, {\"place\": \"Sansepolcro\", \"country\": \"I\", \"x\": -25.54021453857422, \"y\": -4.611756801605225}, {\"place\": \"S\\u00e9res\", \"country\": \"GR\", \"x\": 15.017281532287598, \"y\": 15.269439697265625}, {\"place\": \"Salamanca\", \"country\": \"E\", \"x\": -10.15471363067627, \"y\": 9.113316535949707}, {\"place\": \"N\\u00eemes\", \"country\": \"F\", \"x\": -14.351430892944336, \"y\": 0.044581037014722824}, {\"place\": \"Aix-en-Provence\", \"country\": \"F\", \"x\": -14.92961311340332, \"y\": -0.7487013936042786}, {\"place\": \"Ventimiglia\", \"country\": \"I\", \"x\": -16.58183479309082, \"y\": -3.036245822906494}, {\"place\": \"Savona\", \"country\": \"I\", \"x\": -16.38065528869629, \"y\": -4.242928981781006}, {\"place\": \"Genova\", \"country\": \"I\", \"x\": -17.664052963256836, \"y\": -4.710026741027832}, {\"place\": \"La Spezia\", \"country\": \"I\", \"x\": -19.92446517944336, \"y\": -5.168923854827881}, {\"place\": \"Livorno\", \"country\": \"I\", \"x\": -26.095701217651367, \"y\": -6.280898571014404}, {\"place\": \"Roma\", \"country\": \"I\", \"x\": -26.630006790161133, \"y\": -3.8273956775665283}, {\"place\": \"Edirne\", \"country\": \"TR\", \"x\": 8.539884567260742, \"y\": 15.226722717285156}, {\"place\": \"Babaeski\", \"country\": \"TR\", \"x\": 7.814785957336426, \"y\": 15.655890464782715}, {\"place\": \"Silivri\", \"country\": \"TR\", \"x\": 6.991958141326904, \"y\": 16.512075424194336}, {\"place\": \"Istanbul\", \"country\": \"TR\", \"x\": 5.815540790557861, \"y\": 16.487138748168945}, {\"place\": \"Izmit\", \"country\": \"TR\", \"x\": 4.876009464263916, \"y\": 16.80414581298828}, {\"place\": \"Adapazari\", \"country\": \"TR\", \"x\": 3.5777010917663574, \"y\": 17.475322723388672}, {\"place\": \"Bolu\", \"country\": \"TR\", \"x\": 2.5380072593688965, \"y\": 18.044185638427734}, {\"place\": \"Gerede\", \"country\": \"TR\", \"x\": 2.1482596397399902, \"y\": 18.81070327758789}, {\"place\": \"Ilgaz\", \"country\": \"TR\", \"x\": 1.0928385257720947, \"y\": 18.842994689941406}, {\"place\": \"Amasya\", \"country\": \"TR\", \"x\": 0.3113541901111603, \"y\": 18.75665855407715}, {\"place\": \"Niksar\", \"country\": \"TR\", \"x\": -0.42091992497444153, \"y\": 18.935609817504883}, {\"place\": \"Refahiye\", \"country\": \"TR\", \"x\": -1.1994625329971313, \"y\": 19.43739891052246}, {\"place\": \"Erzincan\", \"country\": \"TR\", \"x\": -2.5961053371429443, \"y\": 18.868650436401367}, {\"place\": \"Askale\", \"country\": \"TR\", \"x\": -3.672581672668457, \"y\": 18.542659759521484}, {\"place\": \"Erzurum\", \"country\": \"TR\", \"x\": -3.3251218795776367, \"y\": 17.759021759033203}, {\"place\": \"A\\u011fri\", \"country\": \"TR\", \"x\": -3.761664390563965, \"y\": 17.27707862854004}, {\"place\": \"G\\u00fcrbulak\", \"country\": \"TR\", \"x\": -3.7723548412323, \"y\": 16.717517852783203}, {\"place\": \"Merida\", \"country\": \"E\", \"x\": -10.752909660339355, \"y\": 10.021173477172852}, {\"place\": \"Logro\\u00f1o\", \"country\": \"E\", \"x\": -10.241609573364258, \"y\": 6.425771713256836}, {\"place\": \"Zamora\", \"country\": \"E\", \"x\": -11.79062271118164, \"y\": -10.830349922180176}, {\"place\": \"Ke\\u015fan\", \"country\": \"TR\", \"x\": 8.957913398742676, \"y\": 17.599262237548828}, {\"place\": \"Tekirdag\", \"country\": \"TR\", \"x\": 7.6944122314453125, \"y\": 17.210229873657227}, {\"place\": \"Avellino\", \"country\": \"I\", \"x\": -26.848026275634766, \"y\": -0.03388524800539017}, {\"place\": \"Benevento\", \"country\": \"I\", \"x\": -25.89396095275879, \"y\": -0.1360025703907013}, {\"place\": \"Spezzano Albanese\", \"country\": \"I\", \"x\": -26.168554306030273, \"y\": 4.669607639312744}, {\"place\": \"Potenza\", \"country\": \"I\", \"x\": -26.019323348999023, \"y\": 2.648016929626465}, {\"place\": \"Sant'Eufemia Lamezia\", \"country\": \"I\", \"x\": -25.11353874206543, \"y\": 6.052698135375977}, {\"place\": \"Orm\\u00e9nio\", \"country\": \"GR\", \"x\": 10.000871658325195, \"y\": 15.069211959838867}, {\"place\": \"Kastanies\", \"country\": \"GR\", \"x\": 10.619389533996582, \"y\": 15.317323684692383}, {\"place\": \"Didimoticho\", \"country\": \"GR\", \"x\": 11.654107093811035, \"y\": 15.487116813659668}, {\"place\": \"Io\\u00e1nnina\", \"country\": \"GR\", \"x\": 18.29610252380371, \"y\": 15.737444877624512}, {\"place\": \"Kristalopig\\u00ed\", \"country\": \"GR\", \"x\": 14.925256729125977, \"y\": 11.823888778686523}, {\"place\": \"Fl\\u00f3rina\", \"country\": \"GR\", \"x\": 15.453962326049805, \"y\": 11.72562026977539}, {\"place\": \"Derek\\u00f6y\", \"country\": \"TR\", \"x\": 6.508577823638916, \"y\": 15.103633880615234}, {\"place\": \"Kirklareli\", \"country\": \"TR\", \"x\": 7.0747222900390625, \"y\": 15.306023597717285}, {\"place\": \"Havza\", \"country\": \"TR\", \"x\": 8.377151489257812, \"y\": 16.475561141967773}, {\"place\": \"Gelibolu\", \"country\": \"TR\", \"x\": 8.11623477935791, \"y\": 18.801715850830078}, {\"place\": \"Eceabat\", \"country\": \"TR\", \"x\": 8.067143440246582, \"y\": 19.788433074951172}, {\"place\": \"\\u00c7anakkale\", \"country\": \"TR\", \"x\": 7.761459827423096, \"y\": 20.865798950195312}, {\"place\": \"Ayvalik\", \"country\": \"TR\", \"x\": 7.609506607055664, \"y\": 22.10732078552246}, {\"place\": \"Izmir\", \"country\": \"TR\", \"x\": 7.189550876617432, \"y\": 23.004375457763672}, {\"place\": \"Sel\\u00e7uk\", \"country\": \"TR\", \"x\": 7.905312538146973, \"y\": 23.48541259765625}, {\"place\": \"Aydin\", \"country\": \"TR\", \"x\": 8.796975135803223, \"y\": 23.541812896728516}, {\"place\": \"Denizli\", \"country\": \"TR\", \"x\": 9.166645050048828, \"y\": 24.317943572998047}, {\"place\": \"Acipayam\", \"country\": \"TR\", \"x\": 9.855484962463379, \"y\": 23.870864868164062}, {\"place\": \"Korkuteli\", \"country\": \"TR\", \"x\": 10.234434127807617, \"y\": 24.580039978027344}, {\"place\": \"Ankara\", \"country\": \"TR\", \"x\": 2.9522013664245605, \"y\": 21.878511428833008}, {\"place\": \"Yozgat\", \"country\": \"TR\", \"x\": 0.9851924777030945, \"y\": 20.84355926513672}, {\"place\": \"Sivas\", \"country\": \"TR\", \"x\": -0.12237663567066193, \"y\": 20.268423080444336}, {\"place\": \"Kizilcahamam\", \"country\": \"TR\", \"x\": 2.414628505706787, \"y\": 20.02280616760254}, {\"place\": \"Badajoz\", \"country\": \"E\", \"x\": -12.388321876525879, \"y\": 8.019020080566406}, {\"place\": \"Zaragoza\", \"country\": \"E\", \"x\": -12.146578788757324, \"y\": 6.550240516662598}, {\"place\": \"L\\u00e9rida\", \"country\": \"E\", \"x\": -13.244967460632324, \"y\": 5.6446404457092285}, {\"place\": \"Mazara del Vallo\", \"country\": \"I\", \"x\": -17.982894897460938, \"y\": 6.148553848266602}, {\"place\": \"Alcamo\", \"country\": \"I\", \"x\": -18.977340698242188, \"y\": 6.580430030822754}, {\"place\": \"Palermo\", \"country\": \"I\", \"x\": -20.064191818237305, \"y\": 7.154004096984863}, {\"place\": \"Buonfornello\", \"country\": \"I\", \"x\": -21.240507125854492, \"y\": 7.220351696014404}, {\"place\": \"Reggio di Calabria\", \"country\": \"I\", \"x\": -23.453779220581055, \"y\": 6.3375725746154785}, {\"place\": \"Catanzaro\", \"country\": \"I\", \"x\": -24.364469528198242, \"y\": 6.4572672843933105}, {\"place\": \"Crotone\", \"country\": \"I\", \"x\": -24.882890701293945, \"y\": 5.222867012023926}, {\"place\": \"Sibari\", \"country\": \"I\", \"x\": -25.72932243347168, \"y\": 4.201357364654541}, {\"place\": \"Metaponto\", \"country\": \"I\", \"x\": -25.271472930908203, \"y\": 3.0751192569732666}, {\"place\": \"Taranto\", \"country\": \"I\", \"x\": -24.80636215209961, \"y\": 2.01464581489563}, {\"place\": \"Alexandropo\\u00fali\", \"country\": \"GR\", \"x\": 12.42269229888916, \"y\": 15.923896789550781}, {\"place\": \"Ipsala\", \"country\": \"TR\", \"x\": 10.733978271484375, \"y\": 16.867786407470703}, {\"place\": \"Lapseki\", \"country\": \"TR\", \"x\": 6.877340316772461, \"y\": 19.788192749023438}, {\"place\": \"Bursa\", \"country\": \"TR\", \"x\": 6.156104564666748, \"y\": 20.322900772094727}, {\"place\": \"Eski\\u015fehir\", \"country\": \"TR\", \"x\": 5.124585151672363, \"y\": 20.733930587768555}, {\"place\": \"Sivrihisar\", \"country\": \"TR\", \"x\": 4.415602684020996, \"y\": 21.914758682250977}, {\"place\": \"Aksaray\", \"country\": \"TR\", \"x\": 2.926762819290161, \"y\": 23.245851516723633}, {\"place\": \"Adana\", \"country\": \"TR\", \"x\": 2.7275917530059814, \"y\": 25.382753372192383}, {\"place\": \"Toprakkale\", \"country\": \"TR\", \"x\": 2.6463613510131836, \"y\": 26.74099349975586}, {\"place\": \"Gazi Antep\", \"country\": \"TR\", \"x\": 1.6538488864898682, \"y\": 27.389333724975586}, {\"place\": \"Sanli Urfa\", \"country\": \"TR\", \"x\": 0.9263553023338318, \"y\": 28.029245376586914}, {\"place\": \"Nusaybin\", \"country\": \"TR\", \"x\": 0.7345962524414062, \"y\": 28.89450454711914}, {\"place\": \"Cizre\", \"country\": \"TR\", \"x\": 0.2200242131948471, \"y\": 29.262434005737305}, {\"place\": \"Habur\", \"country\": \"TR\", \"x\": 0.5251288414001465, \"y\": 29.739686965942383}, {\"place\": \"Ja\\u00e9n\", \"country\": \"E\", \"x\": -15.449241638183594, \"y\": -16.519805908203125}, {\"place\": \"Granada\", \"country\": \"E\", \"x\": -15.680143356323242, \"y\": -16.641605377197266}, {\"place\": \"Iskenderun\", \"country\": \"TR\", \"x\": 3.3272669315338135, \"y\": 27.430633544921875}, {\"place\": \"Topbo\\u011fazi\", \"country\": \"TR\", \"x\": 4.369972229003906, \"y\": 27.431547164916992}, {\"place\": \"Antakya\", \"country\": \"TR\", \"x\": 4.329993724822998, \"y\": 28.43385124206543}, {\"place\": \"Yaylada\\u011fi\", \"country\": \"TR\", \"x\": 5.46921443939209, \"y\": 27.850095748901367}, {\"place\": \"Tr\\u00edkala\", \"country\": \"GR\", \"x\": 18.876863479614258, \"y\": 15.118667602539062}, {\"place\": \"Enna\", \"country\": \"I\", \"x\": -21.281681060791016, \"y\": 6.504541873931885}, {\"place\": \"\\u00c1rta\", \"country\": \"GR\", \"x\": 20.272193908691406, \"y\": 15.305585861206055}, {\"place\": \"Agr\\u00ednio\", \"country\": \"GR\", \"x\": 21.409732818603516, \"y\": 15.013906478881836}, {\"place\": \"Aktio\", \"country\": \"GR\", \"x\": 19.547531127929688, \"y\": 8.937363624572754}, {\"place\": \"V\\u00f3nitsa\", \"country\": \"GR\", \"x\": 20.046777725219727, \"y\": 8.999061584472656}, {\"place\": \"Amfiloch\\u00eda\", \"country\": \"GR\", \"x\": 19.81734275817871, \"y\": 9.625384330749512}, {\"place\": \"Karpen\\u00edsi\", \"country\": \"GR\", \"x\": 20.359468460083008, \"y\": 10.217889785766602}, {\"place\": \"Usak\", \"country\": \"TR\", \"x\": 6.103144645690918, \"y\": 22.723045349121094}, {\"place\": \"Afyon\", \"country\": \"TR\", \"x\": 5.214203357696533, \"y\": 22.593420028686523}, {\"place\": \"Sp\\u00e1rti\", \"country\": \"GR\", \"x\": 26.371368408203125, \"y\": 11.874529838562012}, {\"place\": \"Elefs\\u00edna\", \"country\": \"GR\", \"x\": -8.921311378479004, \"y\": -16.17563819885254}, {\"place\": \"Trabzon\", \"country\": \"TR\", \"x\": -5.026418209075928, \"y\": 19.006999969482422}, {\"place\": \"G\\u00fcm\\u00fcshane\", \"country\": \"TR\", \"x\": -4.661332607269287, \"y\": 18.428390502929688}, {\"place\": \"Kirikhan\", \"country\": \"TR\", \"x\": 4.931901454925537, \"y\": 28.121618270874023}, {\"place\": \"Reyhanli\", \"country\": \"TR\", \"x\": 5.1352338790893555, \"y\": 28.93645668029785}, {\"place\": \"Cilveg\\u00f6z\\u00fc\", \"country\": \"TR\", \"x\": 5.875004291534424, \"y\": 28.731300354003906}, {\"place\": \"Do\\u011fubayazit\", \"country\": \"TR\", \"x\": -1.801466464996338, \"y\": 27.538572311401367}, {\"place\": \"Muradiye\", \"country\": \"TR\", \"x\": -1.7468438148498535, \"y\": 27.86501693725586}, {\"place\": \"Bitlis\", \"country\": \"TR\", \"x\": -1.0102320909500122, \"y\": 27.792022705078125}, {\"place\": \"Diyarbakir\", \"country\": \"TR\", \"x\": -0.1294884830713272, \"y\": 27.822420120239258}, {\"place\": \"Algeciras\", \"country\": \"E\", \"x\": -13.276477813720703, \"y\": 10.459843635559082}, {\"place\": \"Montpellier\", \"country\": \"F\", \"x\": -8.34503173828125, \"y\": 0.5928606986999512}, {\"place\": \"Walsrode\", \"country\": \"D\", \"x\": 8.833854675292969, \"y\": -26.915496826171875}, {\"place\": \"Sarreguemines\", \"country\": \"F\", \"x\": 1.3659052848815918, \"y\": -10.680121421813965}, {\"place\": \"Ludwigshafen\", \"country\": \"D\", \"x\": 3.262605667114258, \"y\": -12.41045093536377}, {\"place\": \"Harwich\", \"country\": \"GB\", \"x\": 12.799346923828125, \"y\": 0.007136688567698002}, {\"place\": \"Gela\", \"country\": \"I\", \"x\": -19.329530715942383, \"y\": 5.6741132736206055}, {\"place\": \"Angers\", \"country\": \"F\", \"x\": -1.0231859683990479, \"y\": -0.30720195174217224}, {\"place\": \"Troyes\", \"country\": \"F\", \"x\": -3.2357006072998047, \"y\": -3.720792531967163}, {\"place\": \"Donaueschingen\", \"country\": \"D\", \"x\": -2.438291311264038, \"y\": -13.019201278686523}, {\"place\": \"F\\u00fcssen\", \"country\": \"D\", \"x\": 5.540278434753418, \"y\": 10.61652946472168}, {\"place\": \"Chalon-sur-Sa\\u00f4ne\", \"country\": \"F\", \"x\": 16.102617263793945, \"y\": 21.36858558654785}, {\"place\": \"Pont-d'Ain\", \"country\": \"F\", \"x\": -9.05020809173584, \"y\": -1.546688437461853}, {\"place\": \"Grenoble\", \"country\": \"F\", \"x\": -8.974886894226074, \"y\": -2.8802297115325928}, {\"place\": \"Marseille\", \"country\": \"F\", \"x\": -10.999747276306152, \"y\": -1.9773293733596802}, {\"place\": \"Sit\\u00eda\", \"country\": \"GR\", \"x\": 24.871383666992188, \"y\": 8.469253540039062}, {\"place\": \"Ver\\u00edn\", \"country\": \"E\", \"x\": -12.195403099060059, \"y\": -11.554553031921387}, {\"place\": \"Tordesillas\", \"country\": \"E\", \"x\": -11.811025619506836, \"y\": -10.867585182189941}, {\"place\": \"G\\u00e9fira\", \"country\": \"GR\", \"x\": 15.944965362548828, \"y\": 12.253652572631836}, {\"place\": \"Antalya\", \"country\": \"TR\", \"x\": 10.562760353088379, \"y\": 24.069604873657227}, {\"place\": \"M\\u00e1laga\", \"country\": \"E\", \"x\": -15.360129356384277, \"y\": -16.45867347717285}, {\"place\": \"V\\u00f3los\", \"country\": \"GR\", \"x\": 19.338472366333008, \"y\": 15.719395637512207}, {\"place\": \"Trapani\", \"country\": \"I\", \"x\": -18.94661521911621, \"y\": 7.303320407867432}, {\"place\": \"Merzifon\", \"country\": \"TR\", \"x\": -7.024296283721924, \"y\": 18.17364501953125}, {\"place\": \"G\\u00edthio\", \"country\": \"GR\", \"x\": 26.44711685180664, \"y\": 11.250081062316895}, {\"place\": \"Th\\u00edva\", \"country\": \"GR\", \"x\": -8.914474487304688, \"y\": -16.17983055114746}]}}, {\"mode\": \"vega-lite\"});\n",
       "</script>"
      ],
      "text/plain": [
       "alt.Chart(...)"
      ]
     },
     "execution_count": 41,
     "metadata": {},
     "output_type": "execute_result"
    }
   ],
   "source": [
    "chart = alt.Chart(df).mark_circle(size=60).encode(\n",
    "    x='x',\n",
    "    y='y',\n",
    "    tooltip=['place', 'country']\n",
    ").properties(width=700, height=400)\n",
    "chart.save('node2vec.json')\n",
    "chart"
   ]
  },
  {
   "cell_type": "code",
   "execution_count": 42,
   "metadata": {},
   "outputs": [
    {
     "data": {
      "text/html": [
       "\n",
       "<div id=\"altair-viz-d25315564d17438897f3d4d27acfd5f3\"></div>\n",
       "<script type=\"text/javascript\">\n",
       "  (function(spec, embedOpt){\n",
       "    let outputDiv = document.currentScript.previousElementSibling;\n",
       "    if (outputDiv.id !== \"altair-viz-d25315564d17438897f3d4d27acfd5f3\") {\n",
       "      outputDiv = document.getElementById(\"altair-viz-d25315564d17438897f3d4d27acfd5f3\");\n",
       "    }\n",
       "    const paths = {\n",
       "      \"vega\": \"https://cdn.jsdelivr.net/npm//vega@5?noext\",\n",
       "      \"vega-lib\": \"https://cdn.jsdelivr.net/npm//vega-lib?noext\",\n",
       "      \"vega-lite\": \"https://cdn.jsdelivr.net/npm//vega-lite@4.8.1?noext\",\n",
       "      \"vega-embed\": \"https://cdn.jsdelivr.net/npm//vega-embed@6?noext\",\n",
       "    };\n",
       "\n",
       "    function loadScript(lib) {\n",
       "      return new Promise(function(resolve, reject) {\n",
       "        var s = document.createElement('script');\n",
       "        s.src = paths[lib];\n",
       "        s.async = true;\n",
       "        s.onload = () => resolve(paths[lib]);\n",
       "        s.onerror = () => reject(`Error loading script: ${paths[lib]}`);\n",
       "        document.getElementsByTagName(\"head\")[0].appendChild(s);\n",
       "      });\n",
       "    }\n",
       "\n",
       "    function showError(err) {\n",
       "      outputDiv.innerHTML = `<div class=\"error\" style=\"color:red;\">${err}</div>`;\n",
       "      throw err;\n",
       "    }\n",
       "\n",
       "    function displayChart(vegaEmbed) {\n",
       "      vegaEmbed(outputDiv, spec, embedOpt)\n",
       "        .catch(err => showError(`Javascript Error: ${err.message}<br>This usually means there's a typo in your chart specification. See the javascript console for the full traceback.`));\n",
       "    }\n",
       "\n",
       "    if(typeof define === \"function\" && define.amd) {\n",
       "      requirejs.config({paths});\n",
       "      require([\"vega-embed\"], displayChart, err => showError(`Error loading script: ${err.message}`));\n",
       "    } else if (typeof vegaEmbed === \"function\") {\n",
       "      displayChart(vegaEmbed);\n",
       "    } else {\n",
       "      loadScript(\"vega\")\n",
       "        .then(() => loadScript(\"vega-lite\"))\n",
       "        .then(() => loadScript(\"vega-embed\"))\n",
       "        .catch(showError)\n",
       "        .then(() => displayChart(vegaEmbed));\n",
       "    }\n",
       "  })({\"config\": {\"view\": {\"continuousWidth\": 400, \"continuousHeight\": 300}}, \"data\": {\"name\": \"data-82a7b16c074939462766f6a0e1a1eda0\"}, \"mark\": {\"type\": \"circle\", \"size\": 60}, \"encoding\": {\"color\": {\"type\": \"nominal\", \"field\": \"country\"}, \"tooltip\": [{\"type\": \"nominal\", \"field\": \"place\"}, {\"type\": \"nominal\", \"field\": \"country\"}], \"x\": {\"type\": \"quantitative\", \"field\": \"x\"}, \"y\": {\"type\": \"quantitative\", \"field\": \"y\"}}, \"height\": 400, \"width\": 700, \"$schema\": \"https://vega.github.io/schema/vega-lite/v4.8.1.json\", \"datasets\": {\"data-82a7b16c074939462766f6a0e1a1eda0\": [{\"place\": \"Larne\", \"country\": \"GB\", \"x\": 23.5971622467041, \"y\": -3.4788525104522705}, {\"place\": \"Belfast\", \"country\": \"GB\", \"x\": 23.132070541381836, \"y\": -4.331253528594971}, {\"place\": \"La Coru\\u00f1a\", \"country\": \"E\", \"x\": -6.959006309509277, \"y\": 7.212301254272461}, {\"place\": \"Pontevedra\", \"country\": \"E\", \"x\": -6.56352424621582, \"y\": 7.505499362945557}, {\"place\": \"Huelva\", \"country\": \"E\", \"x\": -11.583806037902832, \"y\": 11.094340324401855}, {\"place\": \"Cherbourg\", \"country\": \"F\", \"x\": -1.398701786994934, \"y\": 1.7606923580169678}, {\"place\": \"Rennes\", \"country\": \"F\", \"x\": -2.0304977893829346, \"y\": 0.9728484749794006}, {\"place\": \"Nantes\", \"country\": \"F\", \"x\": -3.222228527069092, \"y\": 0.9669696092605591}, {\"place\": \"Greenock\", \"country\": \"GB\", \"x\": 22.48859977722168, \"y\": -5.141818046569824}, {\"place\": \"Glasgow\", \"country\": \"GB\", \"x\": 22.007535934448242, \"y\": -4.52088737487793}, {\"place\": \"Gretna\", \"country\": \"GB\", \"x\": 21.686342239379883, \"y\": -3.2372586727142334}, {\"place\": \"Carlisle\", \"country\": \"GB\", \"x\": 20.80674171447754, \"y\": -3.629676580429077}, {\"place\": \"Penrith\", \"country\": \"GB\", \"x\": 20.163745880126953, \"y\": -2.782966375350952}, {\"place\": \"Preston\", \"country\": \"GB\", \"x\": 19.28508186340332, \"y\": -2.0759246349334717}, {\"place\": \"Warrington\", \"country\": \"GB\", \"x\": 17.830751419067383, \"y\": -1.7032060623168945}, {\"place\": \"Birmingham\", \"country\": \"GB\", \"x\": 16.939695358276367, \"y\": -0.6337239146232605}, {\"place\": \"Newbury\", \"country\": \"GB\", \"x\": 4.114959716796875, \"y\": -4.3097920417785645}, {\"place\": \"Southampton\", \"country\": \"GB\", \"x\": 3.2061350345611572, \"y\": -4.4229841232299805}, {\"place\": \"Le Havre\", \"country\": \"F\", \"x\": 2.03605318069458, \"y\": -4.396010398864746}, {\"place\": \"Paris\", \"country\": \"F\", \"x\": 0.15768936276435852, \"y\": -3.60566782951355}, {\"place\": \"Orl\\u00e9ans\", \"country\": \"F\", \"x\": -3.302507162094116, \"y\": -1.8680168390274048}, {\"place\": \"Tours\", \"country\": \"F\", \"x\": -4.090080738067627, \"y\": -0.3519839644432068}, {\"place\": \"Poitiers\", \"country\": \"F\", \"x\": -5.269989967346191, \"y\": -1.1011312007904053}, {\"place\": \"Bordeaux\", \"country\": \"F\", \"x\": -8.660426139831543, \"y\": 2.9834437370300293}, {\"place\": \"San Sebasti\\u00e1n\", \"country\": \"E\", \"x\": -8.918471336364746, \"y\": 4.871042728424072}, {\"place\": \"Burgos\", \"country\": \"E\", \"x\": -10.119176864624023, \"y\": 8.080099105834961}, {\"place\": \"Madrid\", \"country\": \"E\", \"x\": -11.763603210449219, \"y\": 7.772871017456055}, {\"place\": \"Cord\\u00f3ba\", \"country\": \"E\", \"x\": -11.894949913024902, \"y\": 9.241196632385254}, {\"place\": \"Sevilla\", \"country\": \"E\", \"x\": -11.761260986328125, \"y\": 10.298996925354004}, {\"place\": \"C\\u00e1diz\", \"country\": \"E\", \"x\": -12.774252891540527, \"y\": 10.653653144836426}, {\"place\": \"Pau\", \"country\": \"F\", \"x\": -10.007491111755371, \"y\": 4.234782695770264}, {\"place\": \"Ja\\u00e7a\", \"country\": \"E\", \"x\": -10.981873512268066, \"y\": 5.192709922790527}, {\"place\": \"Huesca\", \"country\": \"E\", \"x\": -11.527820587158203, \"y\": 5.869046211242676}, {\"place\": \"Limoges\", \"country\": \"F\", \"x\": -7.485523223876953, \"y\": 2.289020538330078}, {\"place\": \"Toulouse\", \"country\": \"F\", \"x\": -11.002041816711426, \"y\": 2.537926435470581}, {\"place\": \"Vierzon\", \"country\": \"F\", \"x\": -6.056710243225098, \"y\": 0.2668803632259369}, {\"place\": \"Montlu\\u00e7on\", \"country\": \"F\", \"x\": -7.107753753662109, \"y\": 0.14503557980060577}, {\"place\": \"Clermont-Ferrand\", \"country\": \"F\", \"x\": -7.978862285614014, \"y\": -0.052667297422885895}, {\"place\": \"Doncaster\", \"country\": \"GB\", \"x\": 14.74386978149414, \"y\": -2.9935872554779053}, {\"place\": \"Sheffield\", \"country\": \"GB\", \"x\": 14.015390396118164, \"y\": -2.2175099849700928}, {\"place\": \"Nottingham\", \"country\": \"GB\", \"x\": 13.333251953125, \"y\": -1.741382360458374}, {\"place\": \"Leicester\", \"country\": \"GB\", \"x\": 12.757813453674316, \"y\": -1.2411220073699951}, {\"place\": \"Northampton\", \"country\": \"GB\", \"x\": 12.112601280212402, \"y\": -0.7742995619773865}, {\"place\": \"Inverness\", \"country\": \"GB\", \"x\": 21.856664657592773, \"y\": -6.530788421630859}, {\"place\": \"Perth\", \"country\": \"GB\", \"x\": 21.48891258239746, \"y\": -6.205822467803955}, {\"place\": \"Edinburgh\", \"country\": \"GB\", \"x\": 21.092182159423828, \"y\": -5.492187976837158}, {\"place\": \"Newcastle upon Tyne\", \"country\": \"GB\", \"x\": 19.848970413208008, \"y\": -4.661495208740234}, {\"place\": \"Scotch Corner\", \"country\": \"GB\", \"x\": 15.416053771972656, \"y\": -2.637514352798462}, {\"place\": \"London\", \"country\": \"GB\", \"x\": 11.776893615722656, \"y\": -1.6623870134353638}, {\"place\": \"Folkestone\", \"country\": \"GB\", \"x\": 10.75255298614502, \"y\": -0.6844444870948792}, {\"place\": \"Dover\", \"country\": \"GB\", \"x\": 3.3834657669067383, \"y\": 0.08573795109987259}, {\"place\": \"Calais\", \"country\": \"F\", \"x\": 1.9836957454681396, \"y\": -0.00939176045358181}, {\"place\": \"Lyon\", \"country\": \"F\", \"x\": -9.397947311401367, \"y\": -2.1186885833740234}, {\"place\": \"Orange\", \"country\": \"F\", \"x\": -10.881640434265137, \"y\": -0.8981896638870239}, {\"place\": \"Narbonne\", \"country\": \"F\", \"x\": -12.346360206604004, \"y\": 1.5617111921310425}, {\"place\": \"Gerona\", \"country\": \"E\", \"x\": -12.793927192687988, \"y\": 2.5888760089874268}, {\"place\": \"Barcelona\", \"country\": \"E\", \"x\": -13.621905326843262, \"y\": 4.2415618896484375}, {\"place\": \"Tarragona\", \"country\": \"E\", \"x\": -14.593783378601074, \"y\": 6.0760416984558105}, {\"place\": \"Castell\\u00f3n de la Plana\", \"country\": \"E\", \"x\": -14.443511962890625, \"y\": 7.162911891937256}, {\"place\": \"Valencia\", \"country\": \"E\", \"x\": -13.909449577331543, \"y\": 7.966099739074707}, {\"place\": \"Alicante\", \"country\": \"E\", \"x\": -14.17626667022705, \"y\": 9.041487693786621}, {\"place\": \"Murcia\", \"country\": \"E\", \"x\": -14.072918891906738, \"y\": 9.93184757232666}, {\"place\": \"Londonderry\", \"country\": \"GB\", \"x\": 23.773635864257812, \"y\": -4.81967306137085}, {\"place\": \"Cambrai\", \"country\": \"F\", \"x\": -1.5458757877349854, \"y\": -5.438036918640137}, {\"place\": \"Reims\", \"country\": \"F\", \"x\": -0.7042584419250488, \"y\": -5.923524379730225}, {\"place\": \"Craigavon\", \"country\": \"GB\", \"x\": 24.06673812866211, \"y\": -4.093369483947754}, {\"place\": \"Stranraer\", \"country\": \"GB\", \"x\": 22.634572982788086, \"y\": -3.5315253734588623}, {\"place\": \"Valenciennes\", \"country\": \"F\", \"x\": 0.2120671421289444, \"y\": -2.6560583114624023}, {\"place\": \"Liverpool\", \"country\": \"GB\", \"x\": 18.023229598999023, \"y\": -3.783348321914673}, {\"place\": \"Manchester\", \"country\": \"GB\", \"x\": 17.33757781982422, \"y\": -3.331777572631836}, {\"place\": \"Bradford\", \"country\": \"GB\", \"x\": 16.726041793823242, \"y\": -4.093443870544434}, {\"place\": \"Leeds\", \"country\": \"GB\", \"x\": 16.138818740844727, \"y\": -4.050961017608643}, {\"place\": \"Kingston upon Hull\", \"country\": \"GB\", \"x\": 15.898813247680664, \"y\": -4.821465492248535}, {\"place\": \"Metz\", \"country\": \"F\", \"x\": 0.030041571706533432, \"y\": -8.28465747833252}, {\"place\": \"Nancy\", \"country\": \"F\", \"x\": -1.2419283390045166, \"y\": -8.18237018585205}, {\"place\": \"Dijon\", \"country\": \"F\", \"x\": -2.852651357650757, \"y\": -7.421395778656006}, {\"place\": \"Holyhead\", \"country\": \"GB\", \"x\": 18.557422637939453, \"y\": -0.5894159078598022}, {\"place\": \"Chester\", \"country\": \"GB\", \"x\": 18.395126342773438, \"y\": -0.8388182520866394}, {\"place\": \"Immingham\", \"country\": \"GB\", \"x\": 14.568231582641602, \"y\": -3.6665737628936768}, {\"place\": \"Oldenburg\", \"country\": \"D\", \"x\": 7.941713809967041, \"y\": -27.899578094482422}, {\"place\": \"Bremen\", \"country\": \"D\", \"x\": 8.683462142944336, \"y\": -26.206680297851562}, {\"place\": \"Hamburg\", \"country\": \"D\", \"x\": 9.979331970214844, \"y\": -25.15793228149414}, {\"place\": \"L\\u00fcbeck\", \"country\": \"D\", \"x\": 11.243134498596191, \"y\": -25.61957550048828}, {\"place\": \"Rostock\", \"country\": \"D\", \"x\": 11.993141174316406, \"y\": -24.866527557373047}, {\"place\": \"Stralsund\", \"country\": \"D\", \"x\": 12.938358306884766, \"y\": -24.570016860961914}, {\"place\": \"Sa\\u00dfnitz\", \"country\": \"D\", \"x\": 13.543252944946289, \"y\": -24.72429656982422}, {\"place\": \"Besan\\u00e7on\", \"country\": \"F\", \"x\": -2.280143976211548, \"y\": -8.36921501159668}, {\"place\": \"Hasel\\u00fcnne\", \"country\": \"D\", \"x\": 7.417094707489014, \"y\": -27.33146858215332}, {\"place\": \"Cloppenburg\", \"country\": \"D\", \"x\": 8.030067443847656, \"y\": -26.904441833496094}, {\"place\": \"Cuxhaven\", \"country\": \"D\", \"x\": 9.135287284851074, \"y\": -27.648082733154297}, {\"place\": \"Bremerhaven\", \"country\": \"D\", \"x\": 9.73828411102295, \"y\": -27.153949737548828}, {\"place\": \"Cambridge\", \"country\": \"GB\", \"x\": 15.976076126098633, \"y\": -0.017288867384195328}, {\"place\": \"Saint-Avold\", \"country\": \"F\", \"x\": -1.2829909324645996, \"y\": -10.026856422424316}, {\"place\": \"Strasbourg\", \"country\": \"F\", \"x\": -1.6032625436782837, \"y\": -11.456826210021973}, {\"place\": \"Mulhouse\", \"country\": \"F\", \"x\": -2.663499593734741, \"y\": -11.414657592773438}, {\"place\": \"Mont-Blanc\", \"country\": \"F\", \"x\": -12.16016674041748, \"y\": -5.333008766174316}, {\"place\": \"Aosta\", \"country\": \"I\", \"x\": -13.018525123596191, \"y\": -5.599806785583496}, {\"place\": \"Ivrea\", \"country\": \"I\", \"x\": -14.080989837646484, \"y\": -5.371862411499023}, {\"place\": \"Vercelli\", \"country\": \"I\", \"x\": -15.067801475524902, \"y\": -5.4742608070373535}, {\"place\": \"Alessandria\", \"country\": \"I\", \"x\": -16.12521743774414, \"y\": -5.097818374633789}, {\"place\": \"Neubrandenburg\", \"country\": \"D\", \"x\": 12.164456367492676, \"y\": -23.958858489990234}, {\"place\": \"Belfort\", \"country\": \"F\", \"x\": -2.9184298515319824, \"y\": -9.885645866394043}, {\"place\": \"Berlin\", \"country\": \"D\", \"x\": 11.451651573181152, \"y\": -23.07448387145996}, {\"place\": \"K\\u00f6ln\", \"country\": \"D\", \"x\": 5.720663070678711, \"y\": -13.392691612243652}, {\"place\": \"Saarbr\\u00fccken\", \"country\": \"D\", \"x\": 1.7598682641983032, \"y\": -9.908976554870605}, {\"place\": \"Fishguard\", \"country\": \"GB\", \"x\": 10.232194900512695, \"y\": -5.515523910522461}, {\"place\": \"Swansea\", \"country\": \"GB\", \"x\": 10.502212524414062, \"y\": -5.0185441970825195}, {\"place\": \"Cardiff\", \"country\": \"GB\", \"x\": 10.7564697265625, \"y\": -4.361581325531006}, {\"place\": \"Newport\", \"country\": \"GB\", \"x\": 11.051873207092285, \"y\": -3.547391414642334}, {\"place\": \"Bristol\", \"country\": \"GB\", \"x\": 11.40810775756836, \"y\": -2.7314212322235107}, {\"place\": \"Colchester\", \"country\": \"GB\", \"x\": 13.567115783691406, \"y\": -0.2899460196495056}, {\"place\": \"Ipswich\", \"country\": \"GB\", \"x\": 14.811856269836426, \"y\": 0.15536832809448242}, {\"place\": \"Felixstowe\", \"country\": \"GB\", \"x\": 14.411561012268066, \"y\": 0.7327826619148254}, {\"place\": \"Osnabr\\u00fcck\", \"country\": \"D\", \"x\": 7.436066627502441, \"y\": -25.376266479492188}, {\"place\": \"Bad Oeynhausen\", \"country\": \"D\", \"x\": 7.600131511688232, \"y\": -24.170969009399414}, {\"place\": \"Hannover\", \"country\": \"D\", \"x\": 8.617571830749512, \"y\": -24.140085220336914}, {\"place\": \"Braunschweig\", \"country\": \"D\", \"x\": 9.79853343963623, \"y\": -22.874832153320312}, {\"place\": \"Magdeburg\", \"country\": \"D\", \"x\": 10.44194507598877, \"y\": -22.19244384765625}, {\"place\": \"Goch\", \"country\": \"D\", \"x\": 7.5825676918029785, \"y\": -12.211692810058594}, {\"place\": \"Krefeld\", \"country\": \"D\", \"x\": 6.884232997894287, \"y\": -12.527629852294922}, {\"place\": \"Koblenz\", \"country\": \"D\", \"x\": 4.517012119293213, \"y\": -13.442280769348145}, {\"place\": \"Bingen\", \"country\": \"D\", \"x\": 3.9068386554718018, \"y\": -12.434493064880371}, {\"place\": \"Parma\", \"country\": \"I\", \"x\": -20.273130416870117, \"y\": -6.23898983001709}, {\"place\": \"Dortmund\", \"country\": \"D\", \"x\": 6.842099189758301, \"y\": -15.149897575378418}, {\"place\": \"Oberhausen\", \"country\": \"D\", \"x\": 6.840000152587891, \"y\": -14.07492733001709}, {\"place\": \"Emmerich\", \"country\": \"D\", \"x\": 7.845383644104004, \"y\": -13.979935646057129}, {\"place\": \"Frankfurt am Main\", \"country\": \"D\", \"x\": 3.4435181617736816, \"y\": -14.783785820007324}, {\"place\": \"Heidelberg\", \"country\": \"D\", \"x\": 0.12069292366504669, \"y\": -14.13798713684082}, {\"place\": \"Karlsruhe\", \"country\": \"D\", \"x\": -1.0882588624954224, \"y\": -14.213663101196289}, {\"place\": \"Offenburg\", \"country\": \"D\", \"x\": -1.9881532192230225, \"y\": -13.623037338256836}, {\"place\": \"Como\", \"country\": \"I\", \"x\": -17.43661117553711, \"y\": -7.593618392944336}, {\"place\": \"Milano\", \"country\": \"I\", \"x\": -17.48457145690918, \"y\": -6.711777687072754}, {\"place\": \"Piacenza\", \"country\": \"I\", \"x\": -18.917570114135742, \"y\": -6.300351619720459}, {\"place\": \"Modena\", \"country\": \"I\", \"x\": -21.4964656829834, \"y\": -6.512166976928711}, {\"place\": \"Firenze\", \"country\": \"I\", \"x\": -24.856914520263672, \"y\": -6.332618236541748}, {\"place\": \"Arezzo\", \"country\": \"I\", \"x\": -26.075292587280273, \"y\": -5.139607906341553}, {\"place\": \"L\\u00fcbbenau\", \"country\": \"D\", \"x\": 12.140900611877441, \"y\": -21.829973220825195}, {\"place\": \"Cottbus\", \"country\": \"D\", \"x\": 12.906882286071777, \"y\": -21.717872619628906}, {\"place\": \"Aachen\", \"country\": \"D\", \"x\": 5.689564228057861, \"y\": -11.713484764099121}, {\"place\": \"Olpe\", \"country\": \"D\", \"x\": 5.232255458831787, \"y\": -14.496054649353027}, {\"place\": \"Gie\\u00dfen\", \"country\": \"D\", \"x\": 4.988551139831543, \"y\": -15.557597160339355}, {\"place\": \"Bad Hersfeld\", \"country\": \"D\", \"x\": 5.861265659332275, \"y\": -16.926284790039062}, {\"place\": \"Herleshausen\", \"country\": \"D\", \"x\": 6.412364482879639, \"y\": -17.441072463989258}, {\"place\": \"Eisenach\", \"country\": \"D\", \"x\": 7.2508440017700195, \"y\": -18.326072692871094}, {\"place\": \"Erfurt\", \"country\": \"D\", \"x\": 7.915931224822998, \"y\": -19.253055572509766}, {\"place\": \"Gera\", \"country\": \"D\", \"x\": 8.3242826461792, \"y\": -20.093542098999023}, {\"place\": \"Chemnitz\", \"country\": \"D\", \"x\": 11.450599670410156, \"y\": -20.07984161376953}, {\"place\": \"Dresden\", \"country\": \"D\", \"x\": 12.300654411315918, \"y\": -20.272642135620117}, {\"place\": \"G\\u00f6rlitz\", \"country\": \"D\", \"x\": 12.810014724731445, \"y\": -20.795412063598633}, {\"place\": \"Saint-Brieuc\", \"country\": \"F\", \"x\": 0.03240298479795456, \"y\": 1.5692205429077148}, {\"place\": \"Rouen\", \"country\": \"F\", \"x\": 0.27624547481536865, \"y\": -0.15714117884635925}, {\"place\": \"Aschaffenburg\", \"country\": \"D\", \"x\": 3.698983669281006, \"y\": -16.001325607299805}, {\"place\": \"W\\u00fcrzburg\", \"country\": \"D\", \"x\": 0.5642789006233215, \"y\": -17.278026580810547}, {\"place\": \"Stuttgart\", \"country\": \"D\", \"x\": -0.7597931027412415, \"y\": -16.32870864868164}, {\"place\": \"Longwy\", \"country\": \"F\", \"x\": -0.06837471574544907, \"y\": -8.991719245910645}, {\"place\": \"Dunkerque\", \"country\": \"F\", \"x\": 1.2711412906646729, \"y\": -1.875221610069275}, {\"place\": \"Lille\", \"country\": \"F\", \"x\": 1.3199033737182617, \"y\": -1.9373482465744019}, {\"place\": \"Wittlich\", \"country\": \"D\", \"x\": 4.15920877456665, \"y\": -11.607611656188965}, {\"place\": \"Wiesbaden\", \"country\": \"D\", \"x\": 3.3581244945526123, \"y\": -13.368663787841797}, {\"place\": \"Trier\", \"country\": \"D\", \"x\": 2.3464112281799316, \"y\": -10.824840545654297}, {\"place\": \"Ulm\", \"country\": \"D\", \"x\": -0.7548047304153442, \"y\": -17.61501121520996}, {\"place\": \"Lindau\", \"country\": \"D\", \"x\": -1.7773537635803223, \"y\": -17.58916473388672}, {\"place\": \"Amiens\", \"country\": \"F\", \"x\": 2.1078407764434814, \"y\": -5.541355609893799}, {\"place\": \"Charleville-M\\u00e9zi\\u00e8res\", \"country\": \"F\", \"x\": 1.6310641765594482, \"y\": -6.437383651733398}, {\"place\": \"Flensburg\", \"country\": \"D\", \"x\": 10.41752815246582, \"y\": -24.93798828125}, {\"place\": \"G\\u00f6ttingen\", \"country\": \"D\", \"x\": 6.51369047164917, \"y\": -23.37136459350586}, {\"place\": \"Kassel\", \"country\": \"D\", \"x\": 5.54270076751709, \"y\": -22.871597290039062}, {\"place\": \"Fulda\", \"country\": \"D\", \"x\": 4.503615379333496, \"y\": -22.444164276123047}, {\"place\": \"N\\u00fcrnberg\", \"country\": \"D\", \"x\": 1.656064510345459, \"y\": -19.209766387939453}, {\"place\": \"M\\u00fcnchen\", \"country\": \"D\", \"x\": -1.129170298576355, \"y\": -19.103092193603516}, {\"place\": \"Rosenheim\", \"country\": \"D\", \"x\": -2.0282726287841797, \"y\": -19.764646530151367}, {\"place\": \"Passo di Brennero\", \"country\": \"I\", \"x\": -19.718856811523438, \"y\": -11.429598808288574}, {\"place\": \"Fortezza\", \"country\": \"I\", \"x\": -20.394712448120117, \"y\": -10.892166137695312}, {\"place\": \"Bolzano\", \"country\": \"I\", \"x\": -20.337966918945312, \"y\": -10.121238708496094}, {\"place\": \"Trento\", \"country\": \"I\", \"x\": -20.484403610229492, \"y\": -9.266358375549316}, {\"place\": \"Verona\", \"country\": \"I\", \"x\": -21.363197326660156, \"y\": -8.206002235412598}, {\"place\": \"Bologna\", \"country\": \"I\", \"x\": -22.516958236694336, \"y\": -6.132445335388184}, {\"place\": \"Cesena\", \"country\": \"I\", \"x\": -23.194658279418945, \"y\": -5.572836875915527}, {\"place\": \"Perugia\", \"country\": \"I\", \"x\": -23.402315139770508, \"y\": -4.116491794586182}, {\"place\": \"Fiano Romana\", \"country\": \"I\", \"x\": -26.159730911254883, \"y\": -2.8744289875030518}, {\"place\": \"San Cesareo\", \"country\": \"I\", \"x\": -26.80725860595703, \"y\": -2.2295610904693604}, {\"place\": \"Napoli\", \"country\": \"I\", \"x\": -27.153057098388672, \"y\": -0.9188058972358704}, {\"place\": \"Salerno\", \"country\": \"I\", \"x\": -27.025197982788086, \"y\": 1.147009253501892}, {\"place\": \"Sicignano degli Alburni\", \"country\": \"I\", \"x\": -26.806716918945312, \"y\": 2.967106342315674}, {\"place\": \"Cosenza\", \"country\": \"I\", \"x\": -24.195594787597656, \"y\": 4.514820575714111}, {\"place\": \"Villa San Giovanni\", \"country\": \"I\", \"x\": -23.43111801147461, \"y\": 5.192618370056152}, {\"place\": \"Messina\", \"country\": \"I\", \"x\": -22.428857803344727, \"y\": 6.044055938720703}, {\"place\": \"Cat\\u00e1nia\", \"country\": \"I\", \"x\": -21.08053207397461, \"y\": 5.718992233276367}, {\"place\": \"Siracusa\", \"country\": \"I\", \"x\": -20.153139114379883, \"y\": 6.178202152252197}, {\"place\": \"Caen\", \"country\": \"F\", \"x\": -0.5409186482429504, \"y\": 1.4458531141281128}, {\"place\": \"Schweinfurt\", \"country\": \"D\", \"x\": 3.080514669418335, \"y\": -19.648834228515625}, {\"place\": \"Bayreuth\", \"country\": \"D\", \"x\": 3.7717268466949463, \"y\": -19.79388999938965}, {\"place\": \"Marktredwitz\", \"country\": \"D\", \"x\": 3.154047966003418, \"y\": -20.386476516723633}, {\"place\": \"Halle\", \"country\": \"D\", \"x\": 10.504500389099121, \"y\": -20.9733829498291}, {\"place\": \"Plauen\", \"country\": \"D\", \"x\": 10.61394214630127, \"y\": -19.922727584838867}, {\"place\": \"Sch\\u00f6nberg\", \"country\": \"D\", \"x\": 10.888686180114746, \"y\": -19.21164894104004}, {\"place\": \"Brest\", \"country\": \"F\", \"x\": -2.450601816177368, \"y\": 1.5859017372131348}, {\"place\": \"Le Mans\", \"country\": \"F\", \"x\": -1.1319984197616577, \"y\": -0.8704816699028015}, {\"place\": \"Mannheim\", \"country\": \"D\", \"x\": 2.2779088020324707, \"y\": -15.68647289276123}, {\"place\": \"Heilbronn\", \"country\": \"D\", \"x\": 1.8946774005889893, \"y\": -18.113067626953125}, {\"place\": \"Leipzig\", \"country\": \"D\", \"x\": 8.737120628356934, \"y\": -20.93773651123047}, {\"place\": \"Hirschberg\", \"country\": \"D\", \"x\": 6.797916412353516, \"y\": -20.123003005981445}, {\"place\": \"Hof\", \"country\": \"D\", \"x\": 5.338122367858887, \"y\": -19.93424415588379}, {\"place\": \"Courtenay\", \"country\": \"F\", \"x\": -3.257859468460083, \"y\": -3.171924352645874}, {\"place\": \"Remiremont\", \"country\": \"F\", \"x\": -3.260014772415161, \"y\": -11.316241264343262}, {\"place\": \"Appenweier\", \"country\": \"D\", \"x\": -1.3453913927078247, \"y\": -12.76777172088623}, {\"place\": \"Bayerisch Eisenstein\", \"country\": \"D\", \"x\": -0.059131164103746414, \"y\": -19.510414123535156}, {\"place\": \"Deggendorf\", \"country\": \"D\", \"x\": -0.5675973296165466, \"y\": -19.812423706054688}, {\"place\": \"Memmingen\", \"country\": \"D\", \"x\": 5.535508632659912, \"y\": 10.623169898986816}, {\"place\": \"Garmisch-Partenkirchen\", \"country\": \"D\", \"x\": -1.371126651763916, \"y\": -20.599714279174805}, {\"place\": \"Mittenwald\", \"country\": \"D\", \"x\": -2.021897315979004, \"y\": -20.878618240356445}, {\"place\": \"Chaumont\", \"country\": \"F\", \"x\": -0.3625446557998657, \"y\": -4.320295810699463}, {\"place\": \"Waldshut\", \"country\": \"D\", \"x\": -2.4414544105529785, \"y\": -16.38420295715332}, {\"place\": \"Tarvisio\", \"country\": \"I\", \"x\": -22.321504592895508, \"y\": -11.202293395996094}, {\"place\": \"Udine\", \"country\": \"I\", \"x\": -22.535972595214844, \"y\": -10.580184936523438}, {\"place\": \"Palmanova\", \"country\": \"I\", \"x\": -22.88300323486328, \"y\": -9.558829307556152}, {\"place\": \"Ven\\u00e9zia-Mestre\", \"country\": \"I\", \"x\": -22.669559478759766, \"y\": -8.625020027160645}, {\"place\": \"Ravenna\", \"country\": \"I\", \"x\": -23.207244873046875, \"y\": -6.99080753326416}, {\"place\": \"Rimini\", \"country\": \"I\", \"x\": -24.141002655029297, \"y\": -4.996807098388672}, {\"place\": \"Fano\", \"country\": \"I\", \"x\": -24.71747589111328, \"y\": -3.9163105487823486}, {\"place\": \"Ancona\", \"country\": \"I\", \"x\": -24.911884307861328, \"y\": -2.8103275299072266}, {\"place\": \"Pescara\", \"country\": \"I\", \"x\": -24.953683853149414, \"y\": -1.7092781066894531}, {\"place\": \"Canosa di Puglia\", \"country\": \"I\", \"x\": -24.984228134155273, \"y\": -0.4415573477745056}, {\"place\": \"Bari\", \"country\": \"I\", \"x\": -24.61958122253418, \"y\": 0.7634481191635132}, {\"place\": \"Brindisi\", \"country\": \"I\", \"x\": 18.882522583007812, \"y\": 17.32467269897461}, {\"place\": \"Igoumen\\u00edtsa\", \"country\": \"GR\", \"x\": 19.51827621459961, \"y\": 16.568763732910156}, {\"place\": \"Pr\\u00e9veza\", \"country\": \"GR\", \"x\": 21.212949752807617, \"y\": 15.77026081085205}, {\"place\": \"Mesol\\u00f3ngi\", \"country\": \"GR\", \"x\": 22.494699478149414, \"y\": 14.948896408081055}, {\"place\": \"R\\u00edo\", \"country\": \"GR\", \"x\": 23.332931518554688, \"y\": 14.200518608093262}, {\"place\": \"P\\u00e1tra\", \"country\": \"GR\", \"x\": 24.294965744018555, \"y\": 13.705224990844727}, {\"place\": \"P\\u00edrgos\", \"country\": \"GR\", \"x\": 25.005826950073242, \"y\": 12.874105453491211}, {\"place\": \"Regensburg\", \"country\": \"D\", \"x\": 1.2851523160934448, \"y\": -20.16916275024414}, {\"place\": \"Passau\", \"country\": \"D\", \"x\": 0.88216632604599, \"y\": -20.836994171142578}, {\"place\": \"Beaune\", \"country\": \"F\", \"x\": -2.612062692642212, \"y\": -4.521388530731201}, {\"place\": \"Niort\", \"country\": \"F\", \"x\": -3.7456209659576416, \"y\": 2.812081813812256}, {\"place\": \"La Rochelle\", \"country\": \"F\", \"x\": -4.173297882080078, \"y\": 2.293398857116699}, {\"place\": \"Saintes\", \"country\": \"F\", \"x\": -5.157487869262695, \"y\": 2.798569917678833}, {\"place\": \"Angoul\\u00e8me\", \"country\": \"F\", \"x\": -6.443194389343262, \"y\": 2.814591884613037}, {\"place\": \"Digoin\", \"country\": \"F\", \"x\": 16.102760314941406, \"y\": 21.370744705200195}, {\"place\": \"Trieste\", \"country\": \"I\", \"x\": -23.659156799316406, \"y\": -9.834734916687012}, {\"place\": \"M\\u00e2con\", \"country\": \"F\", \"x\": -5.396193504333496, \"y\": -2.0935542583465576}, {\"place\": \"Gravellona Toce\", \"country\": \"I\", \"x\": -16.445571899414062, \"y\": -7.160453796386719}, {\"place\": \"Tortona\", \"country\": \"I\", \"x\": -17.542404174804688, \"y\": -5.756615161895752}, {\"place\": \"Torino\", \"country\": \"I\", \"x\": -14.689685821533203, \"y\": -4.42266321182251}, {\"place\": \"N\\u00edki\", \"country\": \"GR\", \"x\": 15.214874267578125, \"y\": 12.90333080291748}, {\"place\": \"V\\u00e9vi\", \"country\": \"GR\", \"x\": 15.982941627502441, \"y\": 12.858222961425781}, {\"place\": \"Koz\\u00e1ni\", \"country\": \"GR\", \"x\": 16.955076217651367, \"y\": 14.127524375915527}, {\"place\": \"L\\u00e1rissa\", \"country\": \"GR\", \"x\": 18.029512405395508, \"y\": 12.805914878845215}, {\"place\": \"Domok\\u00f3s\", \"country\": \"GR\", \"x\": 18.978782653808594, \"y\": 12.349879264831543}, {\"place\": \"Lam\\u00eda\", \"country\": \"GR\", \"x\": 20.355514526367188, \"y\": 11.402792930603027}, {\"place\": \"Br\\u00e1los\", \"country\": \"GR\", \"x\": 21.432619094848633, \"y\": 11.980154037475586}, {\"place\": \"It\\u00e9a\", \"country\": \"GR\", \"x\": 22.084842681884766, \"y\": 12.63381576538086}, {\"place\": \"Antirrio\", \"country\": \"GR\", \"x\": 22.69066047668457, \"y\": 13.32314395904541}, {\"place\": \"\\u00c9gio\", \"country\": \"GR\", \"x\": 23.685932159423828, \"y\": 12.940661430358887}, {\"place\": \"Korinthos\", \"country\": \"GR\", \"x\": 24.04945945739746, \"y\": 11.973869323730469}, {\"place\": \"Tr\\u00edpoli\", \"country\": \"GR\", \"x\": 25.586620330810547, \"y\": 12.014998435974121}, {\"place\": \"Kal\\u00e1mata\", \"country\": \"GR\", \"x\": 24.94485092163086, \"y\": 11.44406795501709}, {\"place\": \"Kiss\\u00e1mos\", \"country\": \"GR\", \"x\": 24.745500564575195, \"y\": 10.384750366210938}, {\"place\": \"San Candido\", \"country\": \"I\", \"x\": -20.987030029296875, \"y\": -11.392507553100586}, {\"place\": \"Oviedo\", \"country\": \"E\", \"x\": -7.79993200302124, \"y\": 6.807251930236816}, {\"place\": \"Bilbao\", \"country\": \"E\", \"x\": -8.701104164123535, \"y\": 6.311990261077881}, {\"place\": \"Chamb\\u00e9ry\", \"country\": \"F\", \"x\": -11.223213195800781, \"y\": -3.0664875507354736}, {\"place\": \"Susa\", \"country\": \"I\", \"x\": -13.18493366241455, \"y\": -3.6683099269866943}, {\"place\": \"Brescia\", \"country\": \"I\", \"x\": -18.933197021484375, \"y\": -7.33698844909668}, {\"place\": \"Samsun\", \"country\": \"TR\", \"x\": -7.273571968078613, \"y\": 18.552719116210938}, {\"place\": \"Ordu\", \"country\": \"TR\", \"x\": -6.577311038970947, \"y\": 18.728981018066406}, {\"place\": \"Giresun\", \"country\": \"TR\", \"x\": -5.939865589141846, \"y\": 18.476760864257812}, {\"place\": \"Valence\", \"country\": \"F\", \"x\": -8.556581497192383, \"y\": -2.5735421180725098}, {\"place\": \"Nice\", \"country\": \"F\", \"x\": -15.765765190124512, \"y\": -1.8014508485794067}, {\"place\": \"Cuneo\", \"country\": \"I\", \"x\": -15.680960655212402, \"y\": -2.6484317779541016}, {\"place\": \"Asti\", \"country\": \"I\", \"x\": -15.628253936767578, \"y\": -3.6339452266693115}, {\"place\": \"\\u00c9vzoni\", \"country\": \"GR\", \"x\": 13.43194580078125, \"y\": 14.756209373474121}, {\"place\": \"Thessalon\\u00edki\", \"country\": \"GR\", \"x\": 14.333922386169434, \"y\": 14.81318473815918}, {\"place\": \"Almir\\u00f3s\", \"country\": \"GR\", \"x\": 19.065885543823242, \"y\": 11.652661323547363}, {\"place\": \"Ath\\u00edna\", \"country\": \"GR\", \"x\": 22.974336624145508, \"y\": 10.833715438842773}, {\"place\": \"Chani\\u00e1\", \"country\": \"GR\", \"x\": 23.831974029541016, \"y\": 10.020209312438965}, {\"place\": \"Ir\\u00e1klio\", \"country\": \"GR\", \"x\": 24.353656768798828, \"y\": 9.272649765014648}, {\"place\": \"\\u00c1gios Nik\\u00f3laos\", \"country\": \"GR\", \"x\": 25.163738250732422, \"y\": 9.03685188293457}, {\"place\": \"Migliarino\", \"country\": \"I\", \"x\": -25.08905029296875, \"y\": -7.100902557373047}, {\"place\": \"Grosseto\", \"country\": \"I\", \"x\": -26.77565574645996, \"y\": -5.199272155761719}, {\"place\": \"Sansepolcro\", \"country\": \"I\", \"x\": -25.54021453857422, \"y\": -4.611756801605225}, {\"place\": \"S\\u00e9res\", \"country\": \"GR\", \"x\": 15.017281532287598, \"y\": 15.269439697265625}, {\"place\": \"Salamanca\", \"country\": \"E\", \"x\": -10.15471363067627, \"y\": 9.113316535949707}, {\"place\": \"N\\u00eemes\", \"country\": \"F\", \"x\": -14.351430892944336, \"y\": 0.044581037014722824}, {\"place\": \"Aix-en-Provence\", \"country\": \"F\", \"x\": -14.92961311340332, \"y\": -0.7487013936042786}, {\"place\": \"Ventimiglia\", \"country\": \"I\", \"x\": -16.58183479309082, \"y\": -3.036245822906494}, {\"place\": \"Savona\", \"country\": \"I\", \"x\": -16.38065528869629, \"y\": -4.242928981781006}, {\"place\": \"Genova\", \"country\": \"I\", \"x\": -17.664052963256836, \"y\": -4.710026741027832}, {\"place\": \"La Spezia\", \"country\": \"I\", \"x\": -19.92446517944336, \"y\": -5.168923854827881}, {\"place\": \"Livorno\", \"country\": \"I\", \"x\": -26.095701217651367, \"y\": -6.280898571014404}, {\"place\": \"Roma\", \"country\": \"I\", \"x\": -26.630006790161133, \"y\": -3.8273956775665283}, {\"place\": \"Edirne\", \"country\": \"TR\", \"x\": 8.539884567260742, \"y\": 15.226722717285156}, {\"place\": \"Babaeski\", \"country\": \"TR\", \"x\": 7.814785957336426, \"y\": 15.655890464782715}, {\"place\": \"Silivri\", \"country\": \"TR\", \"x\": 6.991958141326904, \"y\": 16.512075424194336}, {\"place\": \"Istanbul\", \"country\": \"TR\", \"x\": 5.815540790557861, \"y\": 16.487138748168945}, {\"place\": \"Izmit\", \"country\": \"TR\", \"x\": 4.876009464263916, \"y\": 16.80414581298828}, {\"place\": \"Adapazari\", \"country\": \"TR\", \"x\": 3.5777010917663574, \"y\": 17.475322723388672}, {\"place\": \"Bolu\", \"country\": \"TR\", \"x\": 2.5380072593688965, \"y\": 18.044185638427734}, {\"place\": \"Gerede\", \"country\": \"TR\", \"x\": 2.1482596397399902, \"y\": 18.81070327758789}, {\"place\": \"Ilgaz\", \"country\": \"TR\", \"x\": 1.0928385257720947, \"y\": 18.842994689941406}, {\"place\": \"Amasya\", \"country\": \"TR\", \"x\": 0.3113541901111603, \"y\": 18.75665855407715}, {\"place\": \"Niksar\", \"country\": \"TR\", \"x\": -0.42091992497444153, \"y\": 18.935609817504883}, {\"place\": \"Refahiye\", \"country\": \"TR\", \"x\": -1.1994625329971313, \"y\": 19.43739891052246}, {\"place\": \"Erzincan\", \"country\": \"TR\", \"x\": -2.5961053371429443, \"y\": 18.868650436401367}, {\"place\": \"Askale\", \"country\": \"TR\", \"x\": -3.672581672668457, \"y\": 18.542659759521484}, {\"place\": \"Erzurum\", \"country\": \"TR\", \"x\": -3.3251218795776367, \"y\": 17.759021759033203}, {\"place\": \"A\\u011fri\", \"country\": \"TR\", \"x\": -3.761664390563965, \"y\": 17.27707862854004}, {\"place\": \"G\\u00fcrbulak\", \"country\": \"TR\", \"x\": -3.7723548412323, \"y\": 16.717517852783203}, {\"place\": \"Merida\", \"country\": \"E\", \"x\": -10.752909660339355, \"y\": 10.021173477172852}, {\"place\": \"Logro\\u00f1o\", \"country\": \"E\", \"x\": -10.241609573364258, \"y\": 6.425771713256836}, {\"place\": \"Zamora\", \"country\": \"E\", \"x\": -11.79062271118164, \"y\": -10.830349922180176}, {\"place\": \"Ke\\u015fan\", \"country\": \"TR\", \"x\": 8.957913398742676, \"y\": 17.599262237548828}, {\"place\": \"Tekirdag\", \"country\": \"TR\", \"x\": 7.6944122314453125, \"y\": 17.210229873657227}, {\"place\": \"Avellino\", \"country\": \"I\", \"x\": -26.848026275634766, \"y\": -0.03388524800539017}, {\"place\": \"Benevento\", \"country\": \"I\", \"x\": -25.89396095275879, \"y\": -0.1360025703907013}, {\"place\": \"Spezzano Albanese\", \"country\": \"I\", \"x\": -26.168554306030273, \"y\": 4.669607639312744}, {\"place\": \"Potenza\", \"country\": \"I\", \"x\": -26.019323348999023, \"y\": 2.648016929626465}, {\"place\": \"Sant'Eufemia Lamezia\", \"country\": \"I\", \"x\": -25.11353874206543, \"y\": 6.052698135375977}, {\"place\": \"Orm\\u00e9nio\", \"country\": \"GR\", \"x\": 10.000871658325195, \"y\": 15.069211959838867}, {\"place\": \"Kastanies\", \"country\": \"GR\", \"x\": 10.619389533996582, \"y\": 15.317323684692383}, {\"place\": \"Didimoticho\", \"country\": \"GR\", \"x\": 11.654107093811035, \"y\": 15.487116813659668}, {\"place\": \"Io\\u00e1nnina\", \"country\": \"GR\", \"x\": 18.29610252380371, \"y\": 15.737444877624512}, {\"place\": \"Kristalopig\\u00ed\", \"country\": \"GR\", \"x\": 14.925256729125977, \"y\": 11.823888778686523}, {\"place\": \"Fl\\u00f3rina\", \"country\": \"GR\", \"x\": 15.453962326049805, \"y\": 11.72562026977539}, {\"place\": \"Derek\\u00f6y\", \"country\": \"TR\", \"x\": 6.508577823638916, \"y\": 15.103633880615234}, {\"place\": \"Kirklareli\", \"country\": \"TR\", \"x\": 7.0747222900390625, \"y\": 15.306023597717285}, {\"place\": \"Havza\", \"country\": \"TR\", \"x\": 8.377151489257812, \"y\": 16.475561141967773}, {\"place\": \"Gelibolu\", \"country\": \"TR\", \"x\": 8.11623477935791, \"y\": 18.801715850830078}, {\"place\": \"Eceabat\", \"country\": \"TR\", \"x\": 8.067143440246582, \"y\": 19.788433074951172}, {\"place\": \"\\u00c7anakkale\", \"country\": \"TR\", \"x\": 7.761459827423096, \"y\": 20.865798950195312}, {\"place\": \"Ayvalik\", \"country\": \"TR\", \"x\": 7.609506607055664, \"y\": 22.10732078552246}, {\"place\": \"Izmir\", \"country\": \"TR\", \"x\": 7.189550876617432, \"y\": 23.004375457763672}, {\"place\": \"Sel\\u00e7uk\", \"country\": \"TR\", \"x\": 7.905312538146973, \"y\": 23.48541259765625}, {\"place\": \"Aydin\", \"country\": \"TR\", \"x\": 8.796975135803223, \"y\": 23.541812896728516}, {\"place\": \"Denizli\", \"country\": \"TR\", \"x\": 9.166645050048828, \"y\": 24.317943572998047}, {\"place\": \"Acipayam\", \"country\": \"TR\", \"x\": 9.855484962463379, \"y\": 23.870864868164062}, {\"place\": \"Korkuteli\", \"country\": \"TR\", \"x\": 10.234434127807617, \"y\": 24.580039978027344}, {\"place\": \"Ankara\", \"country\": \"TR\", \"x\": 2.9522013664245605, \"y\": 21.878511428833008}, {\"place\": \"Yozgat\", \"country\": \"TR\", \"x\": 0.9851924777030945, \"y\": 20.84355926513672}, {\"place\": \"Sivas\", \"country\": \"TR\", \"x\": -0.12237663567066193, \"y\": 20.268423080444336}, {\"place\": \"Kizilcahamam\", \"country\": \"TR\", \"x\": 2.414628505706787, \"y\": 20.02280616760254}, {\"place\": \"Badajoz\", \"country\": \"E\", \"x\": -12.388321876525879, \"y\": 8.019020080566406}, {\"place\": \"Zaragoza\", \"country\": \"E\", \"x\": -12.146578788757324, \"y\": 6.550240516662598}, {\"place\": \"L\\u00e9rida\", \"country\": \"E\", \"x\": -13.244967460632324, \"y\": 5.6446404457092285}, {\"place\": \"Mazara del Vallo\", \"country\": \"I\", \"x\": -17.982894897460938, \"y\": 6.148553848266602}, {\"place\": \"Alcamo\", \"country\": \"I\", \"x\": -18.977340698242188, \"y\": 6.580430030822754}, {\"place\": \"Palermo\", \"country\": \"I\", \"x\": -20.064191818237305, \"y\": 7.154004096984863}, {\"place\": \"Buonfornello\", \"country\": \"I\", \"x\": -21.240507125854492, \"y\": 7.220351696014404}, {\"place\": \"Reggio di Calabria\", \"country\": \"I\", \"x\": -23.453779220581055, \"y\": 6.3375725746154785}, {\"place\": \"Catanzaro\", \"country\": \"I\", \"x\": -24.364469528198242, \"y\": 6.4572672843933105}, {\"place\": \"Crotone\", \"country\": \"I\", \"x\": -24.882890701293945, \"y\": 5.222867012023926}, {\"place\": \"Sibari\", \"country\": \"I\", \"x\": -25.72932243347168, \"y\": 4.201357364654541}, {\"place\": \"Metaponto\", \"country\": \"I\", \"x\": -25.271472930908203, \"y\": 3.0751192569732666}, {\"place\": \"Taranto\", \"country\": \"I\", \"x\": -24.80636215209961, \"y\": 2.01464581489563}, {\"place\": \"Alexandropo\\u00fali\", \"country\": \"GR\", \"x\": 12.42269229888916, \"y\": 15.923896789550781}, {\"place\": \"Ipsala\", \"country\": \"TR\", \"x\": 10.733978271484375, \"y\": 16.867786407470703}, {\"place\": \"Lapseki\", \"country\": \"TR\", \"x\": 6.877340316772461, \"y\": 19.788192749023438}, {\"place\": \"Bursa\", \"country\": \"TR\", \"x\": 6.156104564666748, \"y\": 20.322900772094727}, {\"place\": \"Eski\\u015fehir\", \"country\": \"TR\", \"x\": 5.124585151672363, \"y\": 20.733930587768555}, {\"place\": \"Sivrihisar\", \"country\": \"TR\", \"x\": 4.415602684020996, \"y\": 21.914758682250977}, {\"place\": \"Aksaray\", \"country\": \"TR\", \"x\": 2.926762819290161, \"y\": 23.245851516723633}, {\"place\": \"Adana\", \"country\": \"TR\", \"x\": 2.7275917530059814, \"y\": 25.382753372192383}, {\"place\": \"Toprakkale\", \"country\": \"TR\", \"x\": 2.6463613510131836, \"y\": 26.74099349975586}, {\"place\": \"Gazi Antep\", \"country\": \"TR\", \"x\": 1.6538488864898682, \"y\": 27.389333724975586}, {\"place\": \"Sanli Urfa\", \"country\": \"TR\", \"x\": 0.9263553023338318, \"y\": 28.029245376586914}, {\"place\": \"Nusaybin\", \"country\": \"TR\", \"x\": 0.7345962524414062, \"y\": 28.89450454711914}, {\"place\": \"Cizre\", \"country\": \"TR\", \"x\": 0.2200242131948471, \"y\": 29.262434005737305}, {\"place\": \"Habur\", \"country\": \"TR\", \"x\": 0.5251288414001465, \"y\": 29.739686965942383}, {\"place\": \"Ja\\u00e9n\", \"country\": \"E\", \"x\": -15.449241638183594, \"y\": -16.519805908203125}, {\"place\": \"Granada\", \"country\": \"E\", \"x\": -15.680143356323242, \"y\": -16.641605377197266}, {\"place\": \"Iskenderun\", \"country\": \"TR\", \"x\": 3.3272669315338135, \"y\": 27.430633544921875}, {\"place\": \"Topbo\\u011fazi\", \"country\": \"TR\", \"x\": 4.369972229003906, \"y\": 27.431547164916992}, {\"place\": \"Antakya\", \"country\": \"TR\", \"x\": 4.329993724822998, \"y\": 28.43385124206543}, {\"place\": \"Yaylada\\u011fi\", \"country\": \"TR\", \"x\": 5.46921443939209, \"y\": 27.850095748901367}, {\"place\": \"Tr\\u00edkala\", \"country\": \"GR\", \"x\": 18.876863479614258, \"y\": 15.118667602539062}, {\"place\": \"Enna\", \"country\": \"I\", \"x\": -21.281681060791016, \"y\": 6.504541873931885}, {\"place\": \"\\u00c1rta\", \"country\": \"GR\", \"x\": 20.272193908691406, \"y\": 15.305585861206055}, {\"place\": \"Agr\\u00ednio\", \"country\": \"GR\", \"x\": 21.409732818603516, \"y\": 15.013906478881836}, {\"place\": \"Aktio\", \"country\": \"GR\", \"x\": 19.547531127929688, \"y\": 8.937363624572754}, {\"place\": \"V\\u00f3nitsa\", \"country\": \"GR\", \"x\": 20.046777725219727, \"y\": 8.999061584472656}, {\"place\": \"Amfiloch\\u00eda\", \"country\": \"GR\", \"x\": 19.81734275817871, \"y\": 9.625384330749512}, {\"place\": \"Karpen\\u00edsi\", \"country\": \"GR\", \"x\": 20.359468460083008, \"y\": 10.217889785766602}, {\"place\": \"Usak\", \"country\": \"TR\", \"x\": 6.103144645690918, \"y\": 22.723045349121094}, {\"place\": \"Afyon\", \"country\": \"TR\", \"x\": 5.214203357696533, \"y\": 22.593420028686523}, {\"place\": \"Sp\\u00e1rti\", \"country\": \"GR\", \"x\": 26.371368408203125, \"y\": 11.874529838562012}, {\"place\": \"Elefs\\u00edna\", \"country\": \"GR\", \"x\": -8.921311378479004, \"y\": -16.17563819885254}, {\"place\": \"Trabzon\", \"country\": \"TR\", \"x\": -5.026418209075928, \"y\": 19.006999969482422}, {\"place\": \"G\\u00fcm\\u00fcshane\", \"country\": \"TR\", \"x\": -4.661332607269287, \"y\": 18.428390502929688}, {\"place\": \"Kirikhan\", \"country\": \"TR\", \"x\": 4.931901454925537, \"y\": 28.121618270874023}, {\"place\": \"Reyhanli\", \"country\": \"TR\", \"x\": 5.1352338790893555, \"y\": 28.93645668029785}, {\"place\": \"Cilveg\\u00f6z\\u00fc\", \"country\": \"TR\", \"x\": 5.875004291534424, \"y\": 28.731300354003906}, {\"place\": \"Do\\u011fubayazit\", \"country\": \"TR\", \"x\": -1.801466464996338, \"y\": 27.538572311401367}, {\"place\": \"Muradiye\", \"country\": \"TR\", \"x\": -1.7468438148498535, \"y\": 27.86501693725586}, {\"place\": \"Bitlis\", \"country\": \"TR\", \"x\": -1.0102320909500122, \"y\": 27.792022705078125}, {\"place\": \"Diyarbakir\", \"country\": \"TR\", \"x\": -0.1294884830713272, \"y\": 27.822420120239258}, {\"place\": \"Algeciras\", \"country\": \"E\", \"x\": -13.276477813720703, \"y\": 10.459843635559082}, {\"place\": \"Montpellier\", \"country\": \"F\", \"x\": -8.34503173828125, \"y\": 0.5928606986999512}, {\"place\": \"Walsrode\", \"country\": \"D\", \"x\": 8.833854675292969, \"y\": -26.915496826171875}, {\"place\": \"Sarreguemines\", \"country\": \"F\", \"x\": 1.3659052848815918, \"y\": -10.680121421813965}, {\"place\": \"Ludwigshafen\", \"country\": \"D\", \"x\": 3.262605667114258, \"y\": -12.41045093536377}, {\"place\": \"Harwich\", \"country\": \"GB\", \"x\": 12.799346923828125, \"y\": 0.007136688567698002}, {\"place\": \"Gela\", \"country\": \"I\", \"x\": -19.329530715942383, \"y\": 5.6741132736206055}, {\"place\": \"Angers\", \"country\": \"F\", \"x\": -1.0231859683990479, \"y\": -0.30720195174217224}, {\"place\": \"Troyes\", \"country\": \"F\", \"x\": -3.2357006072998047, \"y\": -3.720792531967163}, {\"place\": \"Donaueschingen\", \"country\": \"D\", \"x\": -2.438291311264038, \"y\": -13.019201278686523}, {\"place\": \"F\\u00fcssen\", \"country\": \"D\", \"x\": 5.540278434753418, \"y\": 10.61652946472168}, {\"place\": \"Chalon-sur-Sa\\u00f4ne\", \"country\": \"F\", \"x\": 16.102617263793945, \"y\": 21.36858558654785}, {\"place\": \"Pont-d'Ain\", \"country\": \"F\", \"x\": -9.05020809173584, \"y\": -1.546688437461853}, {\"place\": \"Grenoble\", \"country\": \"F\", \"x\": -8.974886894226074, \"y\": -2.8802297115325928}, {\"place\": \"Marseille\", \"country\": \"F\", \"x\": -10.999747276306152, \"y\": -1.9773293733596802}, {\"place\": \"Sit\\u00eda\", \"country\": \"GR\", \"x\": 24.871383666992188, \"y\": 8.469253540039062}, {\"place\": \"Ver\\u00edn\", \"country\": \"E\", \"x\": -12.195403099060059, \"y\": -11.554553031921387}, {\"place\": \"Tordesillas\", \"country\": \"E\", \"x\": -11.811025619506836, \"y\": -10.867585182189941}, {\"place\": \"G\\u00e9fira\", \"country\": \"GR\", \"x\": 15.944965362548828, \"y\": 12.253652572631836}, {\"place\": \"Antalya\", \"country\": \"TR\", \"x\": 10.562760353088379, \"y\": 24.069604873657227}, {\"place\": \"M\\u00e1laga\", \"country\": \"E\", \"x\": -15.360129356384277, \"y\": -16.45867347717285}, {\"place\": \"V\\u00f3los\", \"country\": \"GR\", \"x\": 19.338472366333008, \"y\": 15.719395637512207}, {\"place\": \"Trapani\", \"country\": \"I\", \"x\": -18.94661521911621, \"y\": 7.303320407867432}, {\"place\": \"Merzifon\", \"country\": \"TR\", \"x\": -7.024296283721924, \"y\": 18.17364501953125}, {\"place\": \"G\\u00edthio\", \"country\": \"GR\", \"x\": 26.44711685180664, \"y\": 11.250081062316895}, {\"place\": \"Th\\u00edva\", \"country\": \"GR\", \"x\": -8.914474487304688, \"y\": -16.17983055114746}]}}, {\"mode\": \"vega-lite\"});\n",
       "</script>"
      ],
      "text/plain": [
       "alt.Chart(...)"
      ]
     },
     "execution_count": 42,
     "metadata": {},
     "output_type": "execute_result"
    }
   ],
   "source": [
    "chart = alt.Chart(df).mark_circle(size=60).encode(\n",
    "    x='x',\n",
    "    y='y',\n",
    "    color='country',\n",
    "    tooltip=['place', 'country']\n",
    ").properties(width=700, height=400)\n",
    "chart.save('node2vec-color.json')\n",
    "chart"
   ]
  }
 ],
 "metadata": {
  "kernelspec": {
   "display_name": "Python 3",
   "language": "python",
   "name": "python3"
  },
  "language_info": {
   "codemirror_mode": {
    "name": "ipython",
    "version": 3
   },
   "file_extension": ".py",
   "mimetype": "text/x-python",
   "name": "python",
   "nbconvert_exporter": "python",
   "pygments_lexer": "ipython3",
   "version": "3.7.3"
  }
 },
 "nbformat": 4,
 "nbformat_minor": 4
}
