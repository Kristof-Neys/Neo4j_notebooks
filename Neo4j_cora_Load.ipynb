{
  "nbformat": 4,
  "nbformat_minor": 0,
  "metadata": {
    "colab": {
      "name": "Neo4j_cora_Load.ipynb",
      "provenance": []
    },
    "kernelspec": {
      "name": "python3",
      "display_name": "Python 3"
    },
    "language_info": {
      "name": "python"
    }
  },
  "cells": [
    {
      "cell_type": "code",
      "execution_count": null,
      "metadata": {
        "id": "mlxhI7Ba5EeL"
      },
      "outputs": [],
      "source": [
        "!pip install neo4j\n",
        "!pip3 install neo4j-driver"
      ]
    },
    {
      "cell_type": "code",
      "source": [
        "from neo4j import GraphDatabase, basic_auth"
      ],
      "metadata": {
        "id": "dmhlzm2e5M5P"
      },
      "execution_count": null,
      "outputs": []
    },
    {
      "cell_type": "code",
      "source": [
        "#Credentials\n",
        "bolt = 'bolt://54.242.149.97:7687'\n",
        "auth = (\"neo4j\", \"alternate-pink-ticks\")\n",
        "driver = GraphDatabase.driver(bolt,auth=auth)\n"
      ],
      "metadata": {
        "id": "QEOVRqus5Nb2"
      },
      "execution_count": null,
      "outputs": []
    },
    {
      "cell_type": "code",
      "source": [
        "node_load_q = \"\"\"\n",
        "LOAD CSV WITH HEADERS FROM \"https://raw.githubusercontent.com/Kristof-Neys/Neo4j-Cora/main/node_list.csv\" AS row\n",
        "WITH toInteger(row.id) AS paperId, row.subject AS subject, row.features AS features\n",
        "MERGE (p:Paper {paper_Id: paperId})\n",
        "SET p.subject = subject, p.features = features\n",
        "RETURN count(p)\n",
        "\"\"\"\n",
        "\n",
        "edge_load_q = \"\"\"\n",
        "LOAD CSV WITH HEADERS FROM \"https://raw.githubusercontent.com/Kristof-Neys/Neo4j-Cora/main/edge_list.csv\" AS row\n",
        "MATCH(source: Paper {paper_Id: toInteger(row.source)})\n",
        "MATCH(target: Paper {paper_Id: toInteger(row.target)})\n",
        "MERGE (source)-[r:CITES]->(target)\n",
        "\"\"\""
      ],
      "metadata": {
        "id": "g24rWzjc5UAx"
      },
      "execution_count": null,
      "outputs": []
    },
    {
      "cell_type": "code",
      "source": [
        "with driver.session() as session:\n",
        "    result = session.run(node_load_q)\n",
        "    "
      ],
      "metadata": {
        "id": "RxSowX7t5T-g"
      },
      "execution_count": null,
      "outputs": []
    },
    {
      "cell_type": "code",
      "source": [
        "with driver.session() as session:\n",
        "    result = session.run(edge_load_q)\n",
        "    "
      ],
      "metadata": {
        "id": "vgvDmmCi5T8V"
      },
      "execution_count": null,
      "outputs": []
    },
    {
      "cell_type": "code",
      "source": [
        ""
      ],
      "metadata": {
        "id": "kqccj1sO5T5e"
      },
      "execution_count": null,
      "outputs": []
    },
    {
      "cell_type": "code",
      "source": [
        ""
      ],
      "metadata": {
        "id": "-iwc_p5k5Tyb"
      },
      "execution_count": null,
      "outputs": []
    },
    {
      "cell_type": "code",
      "source": [
        ""
      ],
      "metadata": {
        "id": "-r8n9x695TnO"
      },
      "execution_count": null,
      "outputs": []
    }
  ]
}